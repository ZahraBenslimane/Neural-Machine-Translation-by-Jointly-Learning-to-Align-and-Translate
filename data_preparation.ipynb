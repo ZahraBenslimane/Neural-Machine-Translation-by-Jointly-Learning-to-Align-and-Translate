{
 "cells": [
  {
   "cell_type": "code",
   "execution_count": 19,
   "id": "92ec4ac6-25c7-4738-aa83-2b0cde182472",
   "metadata": {},
   "outputs": [],
   "source": [
    "# Import des librairies\n",
    "import numpy as np\n",
    "import typing\n",
    "import pandas as pd\n",
    "from typing import Any, Tuple\n",
    "import tensorflow as tf\n",
    "import tensorflow_text as tf_text\n",
    "import matplotlib.pyplot as plt\n",
    "import matplotlib.ticker as ticker"
   ]
  },
  {
   "cell_type": "code",
   "execution_count": 20,
   "id": "a6284eec-86ff-4c27-8964-bbf35c62ffcd",
   "metadata": {},
   "outputs": [],
   "source": [
    "# Téchargement de la base d'apprentissage\n",
    "import pathlib\n",
    "\n",
    "path_to_zip = tf.keras.utils.get_file(\n",
    "    'fra-eng.zip', origin='http://storage.googleapis.com/download.tensorflow.org/data/fra-eng.zip',\n",
    "    extract=True)\n",
    "\n",
    "#path_to_file = pathlib.Path(path_to_zip).parent/'fra.txt'\n",
    "path_to_file = pathlib.Path('mini_base_donnees_3.txt')\n"
   ]
  },
  {
   "cell_type": "code",
   "execution_count": 21,
   "id": "0d75b809-1e75-4bc8-be25-45686f8374af",
   "metadata": {},
   "outputs": [],
   "source": [
    "# Extraction des entrées et sortie cibles  du modèles \n",
    "def load_data(path):\n",
    "    text = path.read_text(encoding='utf-8')\n",
    "    lines = text.splitlines()\n",
    "    pairs = [line.split('\\t') for line in lines]\n",
    "    inp = [inp for targ, inp in pairs]\n",
    "    targ = [targ for targ, inp in pairs]\n",
    "\n",
    "    return targ, inp"
   ]
  },
  {
   "cell_type": "code",
   "execution_count": 22,
   "id": "0016d87b-a7a5-4170-8d1f-d4cb644539c4",
   "metadata": {},
   "outputs": [
    {
     "data": {
      "text/html": [
       "<div>\n",
       "<style scoped>\n",
       "    .dataframe tbody tr th:only-of-type {\n",
       "        vertical-align: middle;\n",
       "    }\n",
       "\n",
       "    .dataframe tbody tr th {\n",
       "        vertical-align: top;\n",
       "    }\n",
       "\n",
       "    .dataframe thead th {\n",
       "        text-align: right;\n",
       "    }\n",
       "</style>\n",
       "<table border=\"1\" class=\"dataframe\">\n",
       "  <thead>\n",
       "    <tr style=\"text-align: right;\">\n",
       "      <th></th>\n",
       "      <th>Source</th>\n",
       "      <th>Target</th>\n",
       "    </tr>\n",
       "  </thead>\n",
       "  <tbody>\n",
       "    <tr>\n",
       "      <th>0</th>\n",
       "      <td>L'année dernière, je vous ai présenté ces deux diapositives qui montraient que la calotte glacière arctique, qui pendant ces 3 derniers millions d'année avait la taille des Etats-Unis sans l'Alaska, qui pendant ces 3 derniers millions d'année avait la taille des Etats-Unis sans l'Alaska, avait diminué de 40%.</td>\n",
       "      <td>Last year I showed these two slides so that  demonstrate that the arctic ice cap,  which for most of the last three million years  has been the size of the lower 48 states,  has shrunk by 40 percent.</td>\n",
       "    </tr>\n",
       "    <tr>\n",
       "      <th>1</th>\n",
       "      <td>Mais ceci tend à amoindrir le problème parce qu'on ne voit pas l'épaisseur de la glace.</td>\n",
       "      <td>But this understates the seriousness of this particular problem  because it doesn't show the thickness of the ice.</td>\n",
       "    </tr>\n",
       "    <tr>\n",
       "      <th>2</th>\n",
       "      <td>On peut voir la calotte glacière arctique comme le coeur du système climatique global. On peut voir la calotte glacière arctique comme le coeur du système climatique global.</td>\n",
       "      <td>The arctic ice cap is, in a sense,  the beating heart of the global climate system.</td>\n",
       "    </tr>\n",
       "    <tr>\n",
       "      <th>3</th>\n",
       "      <td>Elle s'étend en hiver et se contracte en été.</td>\n",
       "      <td>It expands in winter and contracts in summer.</td>\n",
       "    </tr>\n",
       "    <tr>\n",
       "      <th>4</th>\n",
       "      <td>La prochaine diapositive que je vais vous montrer est une vue en accéléré de ce qui s'est passé ces 25 dernières années.</td>\n",
       "      <td>The next slide I show you will be  a rapid fast-forward of what's happened over the last 25 years.</td>\n",
       "    </tr>\n",
       "  </tbody>\n",
       "</table>\n",
       "</div>"
      ],
      "text/plain": [
       "                                                                                                                                                                                                                                                                                                                       Source  \\\n",
       "0    L'année dernière, je vous ai présenté ces deux diapositives qui montraient que la calotte glacière arctique, qui pendant ces 3 derniers millions d'année avait la taille des Etats-Unis sans l'Alaska, qui pendant ces 3 derniers millions d'année avait la taille des Etats-Unis sans l'Alaska, avait diminué de 40%.     \n",
       "1                                                                                                                                                                                                                                   Mais ceci tend à amoindrir le problème parce qu'on ne voit pas l'épaisseur de la glace.     \n",
       "2                                                                                                                                             On peut voir la calotte glacière arctique comme le coeur du système climatique global. On peut voir la calotte glacière arctique comme le coeur du système climatique global.     \n",
       "3                                                                                                                                                                                                                                                                             Elle s'étend en hiver et se contracte en été.     \n",
       "4                                                                                                                                                                                                  La prochaine diapositive que je vais vous montrer est une vue en accéléré de ce qui s'est passé ces 25 dernières années.     \n",
       "\n",
       "                                                                                                                                                                                                         Target  \n",
       "0   Last year I showed these two slides so that  demonstrate that the arctic ice cap,  which for most of the last three million years  has been the size of the lower 48 states,  has shrunk by 40 percent.      \n",
       "1                                                                                        But this understates the seriousness of this particular problem  because it doesn't show the thickness of the ice.      \n",
       "2                                                                                                                       The arctic ice cap is, in a sense,  the beating heart of the global climate system.      \n",
       "3                                                                                                                                                             It expands in winter and contracts in summer.      \n",
       "4                                                                                                        The next slide I show you will be  a rapid fast-forward of what's happened over the last 25 years.      "
      ]
     },
     "execution_count": 22,
     "metadata": {},
     "output_type": "execute_result"
    }
   ],
   "source": [
    "targ, inp = load_data(path_to_file)\n",
    "\n",
    "Lang_pairs = {'Source':inp,'Target':targ}\n",
    "df = pd.DataFrame(Lang_pairs)\n",
    "pd.set_option('max_colwidth', 800)\n",
    "df.head()"
   ]
  },
  {
   "cell_type": "code",
   "execution_count": 23,
   "id": "b608e8f7-7db5-4609-9e75-fffb526626d5",
   "metadata": {},
   "outputs": [
    {
     "name": "stdout",
     "output_type": "stream",
     "text": [
      "Nombre de phrases contenus dans les données :  890\n",
      "Nombre de mots de la plus petite phrase :  10\n",
      "Nombre de mots de la plus longue phrase :  497\n"
     ]
    }
   ],
   "source": [
    "# Taille des données d'entrée\n",
    "print(\"Nombre de phrases contenus dans les données : \", len(inp))\n",
    "# On entraine sur 167130 phrase avec des longueur variable allant des plus petites au plus longues\n",
    "\n",
    "# pour montrer qu'on a des longueurs différentes\n",
    "taille_input = [len(p) for p in inp]\n",
    "print(\"Nombre de mots de la plus petite phrase : \", min(taille_input))\n",
    "print(\"Nombre de mots de la plus longue phrase : \", max(taille_input))"
   ]
  },
  {
   "cell_type": "code",
   "execution_count": 24,
   "id": "9142272a-db0c-492d-aa82-be24f66bbf73",
   "metadata": {},
   "outputs": [
    {
     "name": "stdout",
     "output_type": "stream",
     "text": [
      "Si on prend toutes les données on aura 14 exemples pour chaque epoque\n"
     ]
    }
   ],
   "source": [
    "BUFFER_SIZE = len(inp)\n",
    "BATCH_SIZE = 64\n",
    "print(\"Si on prend toutes les données on aura\",round(BUFFER_SIZE/BATCH_SIZE), \"exemples pour chaque epoque\")"
   ]
  },
  {
   "cell_type": "code",
   "execution_count": 25,
   "id": "0c3e7eb2-fbf1-485a-a04d-5e22dd2bc164",
   "metadata": {},
   "outputs": [],
   "source": [
    "# on mélange les données pour ne pas avoir que des phrases de même longueur\n",
    "# pour un entrainement plus léger on peut limiter les données en entrée à (inp[:50000], targ[:50000]) \n",
    "dataset = tf.data.Dataset.from_tensor_slices((inp, targ)).shuffle(BUFFER_SIZE)\n",
    "dataset = dataset.batch(BATCH_SIZE)"
   ]
  },
  {
   "cell_type": "code",
   "execution_count": 26,
   "id": "3f8f5ed9-9b84-4f3b-ac7f-678be285f403",
   "metadata": {},
   "outputs": [
    {
     "name": "stdout",
     "output_type": "stream",
     "text": [
      "tf.Tensor(\n",
      "[b\"  Elle s'\\xc3\\xa9tend en hiver et se contracte en \\xc3\\xa9t\\xc3\\xa9.  \"\n",
      " b'  Nos magasines sont lus par des millions de personnes.  '\n",
      " b'  Voil\\xc3\\xa0 notre plus jeune b\\xc3\\xaata testeur, en bas \\xc3\\xa0 droite.  '\n",
      " b\"  Je suis convaincu que nous avons d\\xc3\\xa9pass\\xc3\\xa9 cette limite du nombre d'options qui augmentent notre bien \\xc3\\xaatre.  \"\n",
      " b'  Il a commenc\\xc3\\xa9 \\xc3\\xa0 sentir la vieille angoisse monter en lui ce : \\xc2\\xab Je vais la perdre et je vais \\xc3\\xaatre hant\\xc3\\xa9 par cette chanson \\xc3\\xa0 tout jamais.  '], shape=(5,), dtype=string)\n",
      "\n",
      "tf.Tensor(\n",
      "[b' It expands in winter and contracts in summer.    '\n",
      " b' Our magazines are read by millions.    '\n",
      " b\" That's our youngest beta tester, down there on the right.    \"\n",
      " b\" I'm pretty confident that we have long since passed the point  where options improve our welfare.    \"\n",
      " b' So he starts to feel all of that old anxiety start to rise in him  like, \"I\\'m going to lose this thing,  and I\\'ll be be haunted by this song forever.    '], shape=(5,), dtype=string)\n"
     ]
    }
   ],
   "source": [
    "for example_input_batch, example_target_batch in dataset.take(1):\n",
    "    print(example_input_batch[:5])\n",
    "    print()\n",
    "    print(example_target_batch[:5])\n",
    "    break  "
   ]
  },
  {
   "cell_type": "code",
   "execution_count": 27,
   "id": "8f363bd6-1c79-48b3-82c8-ab19210db4ae",
   "metadata": {},
   "outputs": [
    {
     "name": "stdout",
     "output_type": "stream",
     "text": [
      "Où étais-tu passé?  --->  b'Ou\\xcc\\x80 e\\xcc\\x81tais-tu passe\\xcc\\x81?'\n"
     ]
    }
   ],
   "source": [
    "# On a des problème ou y'a des accents, il faut travailler en unicode, on normalise en montrant d'abord la lettre\n",
    "# La normalisation Unicode pour diviser les caractères accentués et remplacer les caractères de compatibilité par leurs équivalents ASCII.\n",
    "example_text = tf.constant('Où étais-tu passé?')\n",
    "\n",
    "#print(example_text.numpy())\n",
    "print(\"Où étais-tu passé?  ---> \", tf_text.normalize_utf8(example_text, 'NFKD').numpy())"
   ]
  },
  {
   "cell_type": "code",
   "execution_count": 28,
   "id": "11981611-e012-4488-8421-0e0f0778c1c1",
   "metadata": {},
   "outputs": [],
   "source": [
    "def tf_lower_and_split_punct(text):\n",
    "    # Split accecented characters.\n",
    "    text = tf_text.normalize_utf8(text, 'NFKD')\n",
    "    \n",
    "    text = tf.strings.lower(text)\n",
    "    # Keep space, a to z, and select punctuation.\n",
    "    text = tf.strings.regex_replace(text, '[^ a-z.?!,¿-]', '')\n",
    "    # Replace Hyphen with a space \n",
    "    text = tf.strings.regex_replace(text, '[-]', ' ')\n",
    "    # Add spaces around punctuation.\n",
    "    text = tf.strings.regex_replace(text, '[.?!,¿]', r' \\0 ')\n",
    "    # Strip whitespace.\n",
    "    text = tf.strings.strip(text)\n",
    "    # on ajoute des indicateurs de début et fin de phrase\n",
    "    text = tf.strings.join(['[START]', text, '[END]'], separator=' ')\n",
    "    return text"
   ]
  },
  {
   "cell_type": "code",
   "execution_count": 29,
   "id": "513793a8-0778-43d1-a74f-2172bc2613f6",
   "metadata": {},
   "outputs": [
    {
     "name": "stdout",
     "output_type": "stream",
     "text": [
      "Où étais-tu passé?\n",
      "[START] ou etais tu passe ? [END]\n"
     ]
    }
   ],
   "source": [
    "print(example_text.numpy().decode())\n",
    "# on garde que la lettre sans accent\n",
    "print(tf_lower_and_split_punct(example_text).numpy().decode())"
   ]
  },
  {
   "cell_type": "code",
   "execution_count": 30,
   "id": "946f03fb-3167-47b4-9881-1dc960d8ecdc",
   "metadata": {},
   "outputs": [
    {
     "name": "stdout",
     "output_type": "stream",
     "text": [
      "Source Vocabulary size :3734 words\n",
      "Target Vocabulary size :3157 words \n",
      "-----------------------------------\n",
      "Source Vocab samples : ['', '[UNK]', ',', '.', '[START]', '[END]', 'de', 'a', 'la', 'et']\n",
      "Target Vocab samples : ['', '[UNK]', ',', 'the', '[START]', '[END]', '.', 'of', 'and', 'to']\n"
     ]
    }
   ],
   "source": [
    "max_vocab_size = 5000\n",
    "\n",
    "# We use TextVectorization to map text features to integer sequences\n",
    "input_text_processor = tf.keras.layers.TextVectorization(standardize=tf_lower_and_split_punct, max_tokens=max_vocab_size)\n",
    "output_text_processor = tf.keras.layers.TextVectorization( standardize=tf_lower_and_split_punct,max_tokens=max_vocab_size)\n",
    "\n",
    "input_text_processor.adapt(inp)\n",
    "output_text_processor.adapt(targ)\n",
    "\n",
    "out = output_text_processor.get_vocabulary()[:10]\n",
    "inpt = input_text_processor.get_vocabulary()[:10]\n",
    "\n",
    "print(f\"Source Vocabulary size :{input_text_processor.vocabulary_size()} words\")\n",
    "print(f\"Target Vocabulary size :{output_text_processor.vocabulary_size()} words \")\n",
    "print(\"-\"*35)\n",
    "\n",
    "print(f\"Source Vocab samples : {inpt}\\nTarget Vocab samples : {out}\")"
   ]
  },
  {
   "cell_type": "code",
   "execution_count": 31,
   "id": "b245f162-c93b-4015-bd55-fbe0caf364b8",
   "metadata": {},
   "outputs": [
    {
     "data": {
      "text/plain": [
       "\"\\nmax_vocab_size = 5000\\n\\ninput_text_processor = tf.keras.layers.TextVectorization(standardize=tf_lower_and_split_punct, max_tokens=max_vocab_size)\\n\\ninput_text_processor.adapt(inp)\\n# Les 10 premiers mot de notre vocabulaire d'entrée:\\ninput_text_processor.get_vocabulary()[:10]\\n\""
      ]
     },
     "execution_count": 31,
     "metadata": {},
     "output_type": "execute_result"
    }
   ],
   "source": [
    "\"\"\"\n",
    "max_vocab_size = 5000\n",
    "\n",
    "input_text_processor = tf.keras.layers.TextVectorization(standardize=tf_lower_and_split_punct, max_tokens=max_vocab_size)\n",
    "\n",
    "input_text_processor.adapt(inp)\n",
    "# Les 10 premiers mot de notre vocabulaire d'entrée:\n",
    "input_text_processor.get_vocabulary()[:10]\n",
    "\"\"\""
   ]
  },
  {
   "cell_type": "code",
   "execution_count": 32,
   "id": "03b02258-09e3-4249-b6d7-e25ec8e8bcf1",
   "metadata": {},
   "outputs": [
    {
     "data": {
      "text/plain": [
       "'\\noutput_text_processor = tf.keras.layers.TextVectorization( standardize=tf_lower_and_split_punct,max_tokens=max_vocab_size)\\noutput_text_processor.adapt(targ)\\n# Les 10 premiers mot de notre vocabulaire de sortie:\\noutput_text_processor.get_vocabulary()[:10]\\n'"
      ]
     },
     "execution_count": 32,
     "metadata": {},
     "output_type": "execute_result"
    }
   ],
   "source": [
    "\"\"\"\n",
    "output_text_processor = tf.keras.layers.TextVectorization( standardize=tf_lower_and_split_punct,max_tokens=max_vocab_size)\n",
    "output_text_processor.adapt(targ)\n",
    "# Les 10 premiers mot de notre vocabulaire de sortie:\n",
    "output_text_processor.get_vocabulary()[:10]\n",
    "\"\"\""
   ]
  },
  {
   "cell_type": "code",
   "execution_count": 40,
   "id": "f4b9c1b5-3893-4411-bd8b-d2a09e2fbfc8",
   "metadata": {},
   "outputs": [
    {
     "name": "stdout",
     "output_type": "stream",
     "text": [
      "tf.Tensor([b\"  Elle s'\\xc3\\xa9tend en hiver et se contracte en \\xc3\\xa9t\\xc3\\xa9.  \"], shape=(1,), dtype=string)\n"
     ]
    },
    {
     "data": {
      "text/plain": [
       "<tf.Tensor: shape=(1, 12), dtype=int64, numpy=\n",
       "array([[   4,   62, 1759,   16, 1209,    9,   50, 3325,   16,   67,    3,\n",
       "           5]])>"
      ]
     },
     "execution_count": 40,
     "metadata": {},
     "output_type": "execute_result"
    }
   ],
   "source": [
    "example_tokens = input_text_processor(example_input_batch)\n",
    "print(example_input_batch[:1])\n",
    "# quelques phrases tokenisées\n",
    "example_tokens[:1,:12]"
   ]
  },
  {
   "cell_type": "code",
   "execution_count": 34,
   "id": "dd8a0025-ea01-45d6-b29f-a06eed4f17f8",
   "metadata": {},
   "outputs": [
    {
     "data": {
      "text/plain": [
       "'[START] elle setend en hiver et se contracte en ete . [END]                                                         '"
      ]
     },
     "execution_count": 34,
     "metadata": {},
     "output_type": "execute_result"
    }
   ],
   "source": [
    "# La get_vocabulary méthode peut être utilisée pour convertir les ID de jeton retour au texte:\n",
    "input_vocab = np.array(input_text_processor.get_vocabulary())\n",
    "tokens = input_vocab[example_tokens[0].numpy()]\n",
    "' '.join(tokens)"
   ]
  },
  {
   "cell_type": "code",
   "execution_count": 17,
   "id": "f7d82bad-8ccd-4e3d-9382-d28dc331d957",
   "metadata": {},
   "outputs": [
    {
     "data": {
      "text/plain": [
       "Text(0.5, 1.0, 'Mask')"
      ]
     },
     "execution_count": 17,
     "metadata": {},
     "output_type": "execute_result"
    },
    {
     "data": {
      "image/png": "[encoded data removed]",
      "text/plain": [
       "<Figure size 640x480 with 2 Axes>"
      ]
     },
     "metadata": {},
     "output_type": "display_data"
    }
   ],
   "source": [
    "plt.subplot(1, 2, 1)\n",
    "plt.pcolormesh(example_tokens)\n",
    "plt.title('Token IDs')\n",
    "\n",
    "plt.subplot(1, 2, 2)\n",
    "plt.pcolormesh(example_tokens != 0)\n",
    "plt.title('Mask')"
   ]
  },
  {
   "cell_type": "code",
   "execution_count": 18,
   "id": "fe2dc025-4b86-4631-b03f-33b069933a4d",
   "metadata": {},
   "outputs": [
    {
     "name": "stdout",
     "output_type": "stream",
     "text": [
      "tf.Tensor([64], shape=(1,), dtype=int32)\n",
      "tf.Tensor([64 66], shape=(2,), dtype=int32)\n"
     ]
    }
   ],
   "source": []
  },
  {
   "cell_type": "code",
   "execution_count": null,
   "id": "9dcb3e47-102e-4d80-b25e-4f153a4e2baa",
   "metadata": {},
   "outputs": [],
   "source": [
    "# Convert the input text to tokens.\n",
    "print(tf.shape(example_input_batch))\n",
    "example_tokens = input_text_processor(example_input_batch)\n",
    "print(tf.shape(example_tokens))\n",
    "\n",
    "\n",
    "# Une longeur fixe \"embedding_dim\" est prise toutes les entrées, Un padding est appliqué pour les sequences de taille inférieur à embedding_dim\n",
    "\n",
    "# Encoder la séquence d'entrée.\n",
    "encoder = Encoder(input_text_processor.vocabulary_size(),embedding_dim, units)\n",
    "example_enc_output, example_enc_state = encoder(example_tokens)\n",
    "\n",
    "print(f'Input batch, shape (batch): {example_input_batch.shape}')\n",
    "print(f'Input batch tokens, shape (batch, s): {example_tokens.shape}')\n",
    "print(f'Encoder output, shape (batch, s, units): {example_enc_output.shape}')\n",
    "print(f'Encoder backward state, shape (batch, units): {example_enc_state.shape}')"
   ]
  },
  {
   "cell_type": "code",
   "execution_count": null,
   "id": "04bee88f-b7fb-4ff6-812c-10a46a1868e8",
   "metadata": {},
   "outputs": [],
   "source": []
  }
 ],
 "metadata": {
  "kernelspec": {
   "display_name": "Python 3 (ipykernel)",
   "language": "python",
   "name": "python3"
  },
  "language_info": {
   "codemirror_mode": {
    "name": "ipython",
    "version": 3
   },
   "file_extension": ".py",
   "mimetype": "text/x-python",
   "name": "python",
   "nbconvert_exporter": "python",
   "pygments_lexer": "ipython3",
   "version": "3.10.6"
  }
 },
 "nbformat": 4,
 "nbformat_minor": 5
}
