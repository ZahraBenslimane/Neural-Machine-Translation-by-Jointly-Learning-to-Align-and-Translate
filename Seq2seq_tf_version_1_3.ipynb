{
  "cells": [
    {
      "cell_type": "markdown",
      "source": [
        "**The code was inspired from the official documnetation of TensorFlow**\n"
      ],
      "metadata": {
        "id": "p0l9gL_3l9do"
      }
    },
    {
      "cell_type": "code",
      "execution_count": null,
      "metadata": {
        "id": "JWM5pH9_l6pG"
      },
      "outputs": [],
      "source": [
        "#------------------------------------------#\n",
        "#     Projet Machine Learning Avancé       #\n",
        "#------------------------------------------#\n",
        "#               Master 2 ISI               #\n",
        "\n",
        "#     Membres du Groupe :                  #\n",
        "#     - Tarek BENAISSA                     #\n",
        "#     - Mhamed BENABID                     #\n",
        "#     - Zahra Hafida BENSLIMANE            #\n",
        "#     - Mohammed El Amine BENBRAHIM         #\n",
        "#------------------------------------------#"
      ]
    },
    {
      "cell_type": "code",
      "execution_count": null,
      "metadata": {
        "colab": {
          "base_uri": "https://localhost:8080/"
        },
        "id": "uTgDiD57HTe6",
        "outputId": "64bda0bd-c52e-4b6e-9ae7-7c405f8628b7",
        "scrolled": true
      },
      "outputs": [
        {
          "name": "stdout",
          "output_type": "stream",
          "text": [
            "Requirement already satisfied: tensorflow_text in /opt/conda/envs/Python-3.10/lib/python3.10/site-packages (2.9.0)\n",
            "Requirement already satisfied: tensorflow<2.10,>=2.9.0 in /opt/conda/envs/Python-3.10/lib/python3.10/site-packages (from tensorflow_text) (2.9.2)\n",
            "Requirement already satisfied: tensorflow-hub>=0.8.0 in /opt/conda/envs/Python-3.10/lib/python3.10/site-packages (from tensorflow_text) (0.12.0)\n",
            "Requirement already satisfied: google-pasta>=0.1.1 in /opt/conda/envs/Python-3.10/lib/python3.10/site-packages (from tensorflow<2.10,>=2.9.0->tensorflow_text) (0.2.0)\n",
            "Requirement already satisfied: keras-preprocessing>=1.1.1 in /opt/conda/envs/Python-3.10/lib/python3.10/site-packages (from tensorflow<2.10,>=2.9.0->tensorflow_text) (1.1.2)\n",
            "Requirement already satisfied: numpy>=1.20 in /opt/conda/envs/Python-3.10/lib/python3.10/site-packages (from tensorflow<2.10,>=2.9.0->tensorflow_text) (1.23.1)\n",
            "Requirement already satisfied: typing-extensions>=3.6.6 in /opt/conda/envs/Python-3.10/lib/python3.10/site-packages (from tensorflow<2.10,>=2.9.0->tensorflow_text) (4.3.0)\n",
            "Requirement already satisfied: astunparse>=1.6.0 in /opt/conda/envs/Python-3.10/lib/python3.10/site-packages (from tensorflow<2.10,>=2.9.0->tensorflow_text) (1.6.3)\n",
            "Requirement already satisfied: termcolor>=1.1.0 in /opt/conda/envs/Python-3.10/lib/python3.10/site-packages (from tensorflow<2.10,>=2.9.0->tensorflow_text) (1.1.0)\n",
            "Requirement already satisfied: six>=1.12.0 in /opt/conda/envs/Python-3.10/lib/python3.10/site-packages (from tensorflow<2.10,>=2.9.0->tensorflow_text) (1.16.0)\n",
            "Requirement already satisfied: wrapt>=1.11.0 in /opt/conda/envs/Python-3.10/lib/python3.10/site-packages (from tensorflow<2.10,>=2.9.0->tensorflow_text) (1.14.1)\n",
            "Requirement already satisfied: keras<2.10.0,>=2.9.0 in /opt/conda/envs/Python-3.10/lib/python3.10/site-packages (from tensorflow<2.10,>=2.9.0->tensorflow_text) (2.9.0)\n",
            "Requirement already satisfied: setuptools in /opt/conda/envs/Python-3.10/lib/python3.10/site-packages (from tensorflow<2.10,>=2.9.0->tensorflow_text) (63.4.1)\n",
            "Requirement already satisfied: opt-einsum>=2.3.2 in /opt/conda/envs/Python-3.10/lib/python3.10/site-packages (from tensorflow<2.10,>=2.9.0->tensorflow_text) (3.3.0)\n",
            "Requirement already satisfied: tensorflow-estimator<2.10.0,>=2.9.0 in /opt/conda/envs/Python-3.10/lib/python3.10/site-packages (from tensorflow<2.10,>=2.9.0->tensorflow_text) (2.9.0)\n",
            "Requirement already satisfied: gast<=0.4.0,>=0.2.1 in /opt/conda/envs/Python-3.10/lib/python3.10/site-packages (from tensorflow<2.10,>=2.9.0->tensorflow_text) (0.4.0)\n",
            "Requirement already satisfied: tensorflow-io-gcs-filesystem>=0.23.1 in /opt/conda/envs/Python-3.10/lib/python3.10/site-packages (from tensorflow<2.10,>=2.9.0->tensorflow_text) (0.26.0)\n",
            "Requirement already satisfied: protobuf<3.20,>=3.9.2 in /opt/conda/envs/Python-3.10/lib/python3.10/site-packages (from tensorflow<2.10,>=2.9.0->tensorflow_text) (3.19.1)\n",
            "Requirement already satisfied: tensorboard<2.10,>=2.9 in /opt/conda/envs/Python-3.10/lib/python3.10/site-packages (from tensorflow<2.10,>=2.9.0->tensorflow_text) (2.9.1)\n",
            "Requirement already satisfied: packaging in /opt/conda/envs/Python-3.10/lib/python3.10/site-packages (from tensorflow<2.10,>=2.9.0->tensorflow_text) (21.3)\n",
            "Requirement already satisfied: h5py>=2.9.0 in /opt/conda/envs/Python-3.10/lib/python3.10/site-packages (from tensorflow<2.10,>=2.9.0->tensorflow_text) (3.6.0)\n",
            "Requirement already satisfied: grpcio<2.0,>=1.24.3 in /opt/conda/envs/Python-3.10/lib/python3.10/site-packages (from tensorflow<2.10,>=2.9.0->tensorflow_text) (1.42.0)\n",
            "Requirement already satisfied: flatbuffers>=2.0 in /opt/conda/envs/Python-3.10/lib/python3.10/site-packages (from tensorflow<2.10,>=2.9.0->tensorflow_text) (2.0)\n",
            "Requirement already satisfied: absl-py>=1.0.0 in /opt/conda/envs/Python-3.10/lib/python3.10/site-packages (from tensorflow<2.10,>=2.9.0->tensorflow_text) (1.0.0)\n",
            "Requirement already satisfied: wheel<1.0,>=0.23.0 in /opt/conda/envs/Python-3.10/lib/python3.10/site-packages (from astunparse>=1.6.0->tensorflow<2.10,>=2.9.0->tensorflow_text) (0.37.1)\n",
            "Requirement already satisfied: markdown>=2.6.8 in /opt/conda/envs/Python-3.10/lib/python3.10/site-packages (from tensorboard<2.10,>=2.9->tensorflow<2.10,>=2.9.0->tensorflow_text) (3.3.4)\n",
            "Requirement already satisfied: werkzeug>=1.0.1 in /opt/conda/envs/Python-3.10/lib/python3.10/site-packages (from tensorboard<2.10,>=2.9->tensorflow<2.10,>=2.9.0->tensorflow_text) (2.0.3)\n",
            "Requirement already satisfied: google-auth<3,>=1.6.3 in /opt/conda/envs/Python-3.10/lib/python3.10/site-packages (from tensorboard<2.10,>=2.9->tensorflow<2.10,>=2.9.0->tensorflow_text) (1.33.0)\n",
            "Requirement already satisfied: google-auth-oauthlib<0.5,>=0.4.1 in /opt/conda/envs/Python-3.10/lib/python3.10/site-packages (from tensorboard<2.10,>=2.9->tensorflow<2.10,>=2.9.0->tensorflow_text) (0.4.4)\n",
            "Requirement already satisfied: requests<3,>=2.21.0 in /opt/conda/envs/Python-3.10/lib/python3.10/site-packages (from tensorboard<2.10,>=2.9->tensorflow<2.10,>=2.9.0->tensorflow_text) (2.28.1)\n",
            "Requirement already satisfied: tensorboard-data-server<0.7.0,>=0.6.0 in /opt/conda/envs/Python-3.10/lib/python3.10/site-packages (from tensorboard<2.10,>=2.9->tensorflow<2.10,>=2.9.0->tensorflow_text) (0.6.1)\n",
            "Requirement already satisfied: tensorboard-plugin-wit>=1.6.0 in /opt/conda/envs/Python-3.10/lib/python3.10/site-packages (from tensorboard<2.10,>=2.9->tensorflow<2.10,>=2.9.0->tensorflow_text) (1.6.0)\n",
            "Requirement already satisfied: pyparsing!=3.0.5,>=2.0.2 in /opt/conda/envs/Python-3.10/lib/python3.10/site-packages (from packaging->tensorflow<2.10,>=2.9.0->tensorflow_text) (3.0.9)\n",
            "Requirement already satisfied: rsa<5,>=3.1.4 in /opt/conda/envs/Python-3.10/lib/python3.10/site-packages (from google-auth<3,>=1.6.3->tensorboard<2.10,>=2.9->tensorflow<2.10,>=2.9.0->tensorflow_text) (4.7.2)\n",
            "Requirement already satisfied: cachetools<5.0,>=2.0.0 in /opt/conda/envs/Python-3.10/lib/python3.10/site-packages (from google-auth<3,>=1.6.3->tensorboard<2.10,>=2.9->tensorflow<2.10,>=2.9.0->tensorflow_text) (4.2.2)\n",
            "Requirement already satisfied: pyasn1-modules>=0.2.1 in /opt/conda/envs/Python-3.10/lib/python3.10/site-packages (from google-auth<3,>=1.6.3->tensorboard<2.10,>=2.9->tensorflow<2.10,>=2.9.0->tensorflow_text) (0.2.8)\n",
            "Requirement already satisfied: requests-oauthlib>=0.7.0 in /opt/conda/envs/Python-3.10/lib/python3.10/site-packages (from google-auth-oauthlib<0.5,>=0.4.1->tensorboard<2.10,>=2.9->tensorflow<2.10,>=2.9.0->tensorflow_text) (1.3.0)\n",
            "Requirement already satisfied: urllib3<1.27,>=1.21.1 in /opt/conda/envs/Python-3.10/lib/python3.10/site-packages (from requests<3,>=2.21.0->tensorboard<2.10,>=2.9->tensorflow<2.10,>=2.9.0->tensorflow_text) (1.26.11)\n",
            "Requirement already satisfied: certifi>=2017.4.17 in /opt/conda/envs/Python-3.10/lib/python3.10/site-packages (from requests<3,>=2.21.0->tensorboard<2.10,>=2.9->tensorflow<2.10,>=2.9.0->tensorflow_text) (2022.9.24)\n",
            "Requirement already satisfied: idna<4,>=2.5 in /opt/conda/envs/Python-3.10/lib/python3.10/site-packages (from requests<3,>=2.21.0->tensorboard<2.10,>=2.9->tensorflow<2.10,>=2.9.0->tensorflow_text) (3.3)\n",
            "Requirement already satisfied: charset-normalizer<3,>=2 in /opt/conda/envs/Python-3.10/lib/python3.10/site-packages (from requests<3,>=2.21.0->tensorboard<2.10,>=2.9->tensorflow<2.10,>=2.9.0->tensorflow_text) (2.0.4)\n",
            "Requirement already satisfied: pyasn1<0.5.0,>=0.4.6 in /opt/conda/envs/Python-3.10/lib/python3.10/site-packages (from pyasn1-modules>=0.2.1->google-auth<3,>=1.6.3->tensorboard<2.10,>=2.9->tensorflow<2.10,>=2.9.0->tensorflow_text) (0.4.8)\n",
            "Requirement already satisfied: oauthlib>=3.0.0 in /opt/conda/envs/Python-3.10/lib/python3.10/site-packages (from requests-oauthlib>=0.7.0->google-auth-oauthlib<0.5,>=0.4.1->tensorboard<2.10,>=2.9->tensorflow<2.10,>=2.9.0->tensorflow_text) (3.2.1)\n"
          ]
        }
      ],
      "source": [
        "!pip install tensorflow_text"
      ]
    },
    {
      "cell_type": "code",
      "execution_count": null,
      "metadata": {
        "id": "R2Lr5TLIHeKq"
      },
      "outputs": [],
      "source": [
        "import numpy as np\n",
        "\n",
        "import typing\n",
        "from typing import Any, Tuple\n",
        "\n",
        "import tensorflow as tf\n",
        "\n",
        "import tensorflow_text as tf_text\n",
        "\n",
        "import matplotlib.pyplot as plt\n",
        "import matplotlib.ticker as ticker"
      ]
    },
    {
      "cell_type": "code",
      "execution_count": null,
      "metadata": {
        "id": "--QlcPNMHnQR"
      },
      "outputs": [],
      "source": [
        "# cette variable est utilisée pour basculer entre les implémentations personnalisées ( qu'on crée à partir de zéro) et intégrées.\n",
        "use_builtins = True"
      ]
    },
    {
      "cell_type": "code",
      "execution_count": null,
      "metadata": {
        "id": "t0uzprOml6pN"
      },
      "outputs": [],
      "source": [
        "class ShapeChecker():\n",
        "    def __init__(self):\n",
        "        # Keep a cache of every axis-name seen\n",
        "        self.shapes = {}\n",
        "\n",
        "    def __call__(self, tensor, names, broadcast=False):\n",
        "        if not tf.executing_eagerly():\n",
        "            return\n",
        "\n",
        "        if isinstance(names, str):\n",
        "            names = (names,)\n",
        "\n",
        "        shape = tf.shape(tensor)\n",
        "        rank = tf.rank(tensor)\n",
        "\n",
        "        if rank != len(names):\n",
        "            raise ValueError(f'Rank mismatch:\\n'\n",
        "                           f'    found {rank}: {shape.numpy()}\\n'\n",
        "                           f'    expected {len(names)}: {names}\\n')\n",
        "\n",
        "        for i, name in enumerate(names):\n",
        "            if isinstance(name, int):\n",
        "                old_dim = name\n",
        "            else:\n",
        "                old_dim = self.shapes.get(name, None)\n",
        "            new_dim = shape[i]\n",
        "\n",
        "            if (broadcast and new_dim == 1):\n",
        "                continue\n",
        "\n",
        "            if old_dim is None:\n",
        "                # If the axis name is new, add its length to the cache.\n",
        "                self.shapes[name] = new_dim\n",
        "                continue\n",
        "\n",
        "            if new_dim != old_dim:\n",
        "                raise ValueError(f\"Shape mismatch for dimension: '{name}'\\n\"\n",
        "                             f\"    found: {new_dim}\\n\"\n",
        "                             f\"    expected: {old_dim}\\n\")\n",
        "                             \n"
      ]
    },
    {
      "cell_type": "code",
      "execution_count": null,
      "metadata": {
        "id": "SRLltQepHoZU"
      },
      "outputs": [],
      "source": [
        "# format des données en entrée\n",
        "# input target\n",
        "# Qui est-il ? Who is it?"
      ]
    },
    {
      "cell_type": "code",
      "execution_count": null,
      "metadata": {
        "id": "xXht4MOKHsLi"
      },
      "outputs": [],
      "source": [
        "# Download the file\n",
        "import pathlib\n",
        "\n",
        "path_to_zip = tf.keras.utils.get_file(\n",
        "    'fra-eng.zip', origin='http://storage.googleapis.com/download.tensorflow.org/data/fra-eng.zip',\n",
        "    extract=True)\n",
        "\n",
        "path_to_file = pathlib.Path(path_to_zip).parent/'fra.txt'"
      ]
    },
    {
      "cell_type": "code",
      "execution_count": null,
      "metadata": {
        "id": "AHF6IPMoHt5l"
      },
      "outputs": [],
      "source": [
        "def load_data(path):\n",
        "    text = path.read_text(encoding='utf-8')\n",
        "    lines = text.splitlines()\n",
        "    pairs = [line.split('\\t') for line in lines]\n",
        "\n",
        "    inp = [inp for targ, inp in pairs]\n",
        "    targ = [targ for targ, inp in pairs]\n",
        "\n",
        "    return targ, inp"
      ]
    },
    {
      "cell_type": "code",
      "execution_count": null,
      "metadata": {
        "colab": {
          "base_uri": "https://localhost:8080/"
        },
        "id": "UMlCRiBCHvW5",
        "outputId": "89c66d3b-eabd-4f61-9028-79ba5a65ef4f"
      },
      "outputs": [
        {
          "name": "stdout",
          "output_type": "stream",
          "text": [
            "entrée :  Il est peut-être impossible d'obtenir un Corpus complètement dénué de fautes, étant donnée la nature de ce type d'entreprise collaborative. Cependant, si nous encourageons les membres à produire des phrases dans leurs propres langues plutôt que d'expérimenter dans les langues qu'ils apprennent, nous pourrions être en mesure de réduire les erreurs.\n"
          ]
        }
      ],
      "source": [
        "targ, inp = load_data(path_to_file)\n",
        "print(\"entrée : \",inp[-1])\n"
      ]
    },
    {
      "cell_type": "code",
      "execution_count": null,
      "metadata": {
        "colab": {
          "base_uri": "https://localhost:8080/"
        },
        "id": "NaGXKnwSHxNQ",
        "outputId": "99cef464-14f2-44ba-9d9a-81453198c4ed"
      },
      "outputs": [
        {
          "name": "stdout",
          "output_type": "stream",
          "text": [
            "cible :  It may be impossible to get a completely error-free corpus due to the nature of this kind of collaborative effort. However, if we encourage members to contribute sentences in their own languages rather than experiment in languages they are learning, we might be able to minimize errors.\n"
          ]
        }
      ],
      "source": [
        "print(\"cible : \",targ[-1])"
      ]
    },
    {
      "cell_type": "code",
      "execution_count": null,
      "metadata": {
        "id": "hBrHT_mMl6pQ",
        "outputId": "43be7a02-ba42-4147-eec3-ae0b80723aff"
      },
      "outputs": [
        {
          "name": "stdout",
          "output_type": "stream",
          "text": [
            "nombre de phrase contenu dans les données :  167130\n",
            "nombre de mot de la plus petite phrase :  4\n",
            "nombre de mot de la plus longue phrase :  349\n"
          ]
        }
      ],
      "source": [
        "# Taille des données en entrée\n",
        "print(\"nombre de phrase contenu dans les données : \", len(inp))\n",
        "# On entraine sur 167130 phrase avec des longueur variable allant des plus petites au plus longues\n",
        "\n",
        "# pour montrer qu'on a des longueurs différentes\n",
        "taille_input = [len(p) for p in inp]\n",
        "print(\"nombre de mot de la plus petite phrase : \", min(taille_input))\n",
        "print(\"nombre de mot de la plus longue phrase : \", max(taille_input))"
      ]
    },
    {
      "cell_type": "code",
      "execution_count": null,
      "metadata": {
        "id": "UNsS2Y61l6pR",
        "outputId": "8f00f820-b931-4350-8c3f-a2345114b768"
      },
      "outputs": [
        {
          "name": "stdout",
          "output_type": "stream",
          "text": [
            "Si on prend toutes les données on aura 2611 exemples pour chaque epoque\n"
          ]
        }
      ],
      "source": [
        "BUFFER_SIZE = len(inp)\n",
        "BATCH_SIZE = 64\n",
        "print(\"Si on prend toutes les données on aura\",round(BUFFER_SIZE/BATCH_SIZE), \"exemples pour chaque epoque\")\n"
      ]
    },
    {
      "cell_type": "code",
      "execution_count": null,
      "metadata": {
        "id": "9eNLVLKLHyq4"
      },
      "outputs": [],
      "source": [
        "# on mélange les données pour ne pas avoir que des phrases de même longueur\n",
        "# pour un entrainement plus léger on peut limiter les données en entrée à (inp[:50000], targ[:50000]) \n",
        "dataset = tf.data.Dataset.from_tensor_slices((inp, targ)).shuffle(BUFFER_SIZE)\n",
        "dataset = dataset.batch(BATCH_SIZE)"
      ]
    },
    {
      "cell_type": "code",
      "execution_count": null,
      "metadata": {
        "colab": {
          "base_uri": "https://localhost:8080/"
        },
        "id": "orxeToKgH0EJ",
        "outputId": "dfbd2bb8-49af-493c-eb89-5dbb952c59e8"
      },
      "outputs": [
        {
          "name": "stdout",
          "output_type": "stream",
          "text": [
            "tf.Tensor(\n",
            "[b'Qui \\xc3\\xaates-vous tous\\xe2\\x80\\xaf?'\n",
            " b\"Ce n'est pas ce que tu veux faire.\" b'Je connais votre genre.'\n",
            " b'Il vous a trahi.' b'Mon p\\xc3\\xa8re ne permettra pas cela.'], shape=(5,), dtype=string)\n",
            "\n",
            "tf.Tensor(\n",
            "[b'Who are you all?' b\"That's not what you want to do.\"\n",
            " b'I know your type.' b'He betrayed you.' b\"My father won't allow that.\"], shape=(5,), dtype=string)\n"
          ]
        }
      ],
      "source": [
        "for example_input_batch, example_target_batch in dataset.take(1):\n",
        "    print(example_input_batch[:5])\n",
        "    print()\n",
        "    print(example_target_batch[:5])\n",
        "    break"
      ]
    },
    {
      "cell_type": "code",
      "execution_count": null,
      "metadata": {
        "colab": {
          "base_uri": "https://localhost:8080/"
        },
        "id": "hIGoSm71H1li",
        "outputId": "43e59ffb-f49c-4c2f-afd3-70dc45ed7061"
      },
      "outputs": [
        {
          "name": "stdout",
          "output_type": "stream",
          "text": [
            "b'Tu est toujours \\xc3\\xa0 la maison?'\n",
            "b'Tu est toujours a\\xcc\\x80 la maison?'\n"
          ]
        }
      ],
      "source": [
        "# On a des problème ou y'a des accents, il faut travailler en unicode, on normalise en montrant d'abord la lettre\n",
        "# La normalisation Unicode pour diviser les caractères accentués et remplacer les caractères de compatibilité par leurs équivalents ASCII.\n",
        "example_text = tf.constant('Tu est toujours à la maison?')\n",
        "\n",
        "print(example_text.numpy())\n",
        "print(tf_text.normalize_utf8(example_text, 'NFKD').numpy())"
      ]
    },
    {
      "cell_type": "code",
      "execution_count": null,
      "metadata": {
        "id": "ddy3nG-rH4i3"
      },
      "outputs": [],
      "source": [
        "def tf_lower_and_split_punct(text):\n",
        "    # Split accecented characters.\n",
        "    text = tf_text.normalize_utf8(text, 'NFKD')\n",
        "    text = tf.strings.lower(text)\n",
        "    # Keep space, a to z, and select punctuation.\n",
        "    text = tf.strings.regex_replace(text, '[^ a-z.?!,¿]', '')\n",
        "    # Add spaces around punctuation.\n",
        "    text = tf.strings.regex_replace(text, '[.?!,¿]', r' \\0 ')\n",
        "    # Strip whitespace.\n",
        "    text = tf.strings.strip(text)\n",
        "    # on ajoute des indicateurs de début et fin de phrase\n",
        "    text = tf.strings.join(['[START]', text, '[END]'], separator=' ')\n",
        "    return text"
      ]
    },
    {
      "cell_type": "code",
      "execution_count": null,
      "metadata": {
        "colab": {
          "base_uri": "https://localhost:8080/"
        },
        "id": "8YI0_5uWH5Sx",
        "outputId": "42ebb3b3-0397-45aa-9bdd-e6365ce673bb"
      },
      "outputs": [
        {
          "name": "stdout",
          "output_type": "stream",
          "text": [
            "Tu est toujours à la maison?\n",
            "[START] tu est toujours a la maison ? [END]\n"
          ]
        }
      ],
      "source": [
        "print(example_text.numpy().decode())\n",
        "# on garde que la lettre sans accent\n",
        "print(tf_lower_and_split_punct(example_text).numpy().decode())"
      ]
    },
    {
      "cell_type": "code",
      "execution_count": null,
      "metadata": {
        "id": "zLhwT2JEH6j5"
      },
      "outputs": [],
      "source": [
        "max_vocab_size = 5000\n",
        "\n",
        "input_text_processor = tf.keras.layers.TextVectorization(\n",
        "    standardize=tf_lower_and_split_punct,\n",
        "    max_tokens=max_vocab_size)"
      ]
    },
    {
      "cell_type": "code",
      "execution_count": null,
      "metadata": {
        "colab": {
          "base_uri": "https://localhost:8080/"
        },
        "id": "s7rJaX5YH8uw",
        "outputId": "ab253f2b-35df-48ba-8f73-5bb8ce51e303"
      },
      "outputs": [
        {
          "data": {
            "text/plain": [
              "['', '[UNK]', '[START]', '[END]', '.', 'je', 'de', 'a', '?', 'pas']"
            ]
          },
          "execution_count": 19,
          "metadata": {},
          "output_type": "execute_result"
        }
      ],
      "source": [
        "input_text_processor.adapt(inp)\n",
        "\n",
        "# Here are the first 10 words from the vocabulary:\n",
        "input_text_processor.get_vocabulary()[:10]"
      ]
    },
    {
      "cell_type": "code",
      "execution_count": null,
      "metadata": {
        "colab": {
          "base_uri": "https://localhost:8080/"
        },
        "id": "6YvugutPH9k9",
        "outputId": "32aac95a-15ab-4dbb-8e48-fe63d8c1bfed"
      },
      "outputs": [
        {
          "data": {
            "text/plain": [
              "['', '[UNK]', '[START]', '[END]', '.', 'i', 'you', 'to', 'the', '?']"
            ]
          },
          "execution_count": 20,
          "metadata": {},
          "output_type": "execute_result"
        }
      ],
      "source": [
        "output_text_processor = tf.keras.layers.TextVectorization(\n",
        "    standardize=tf_lower_and_split_punct,\n",
        "    max_tokens=max_vocab_size)\n",
        "\n",
        "output_text_processor.adapt(targ)\n",
        "output_text_processor.get_vocabulary()[:10]"
      ]
    },
    {
      "cell_type": "code",
      "execution_count": null,
      "metadata": {
        "colab": {
          "base_uri": "https://localhost:8080/"
        },
        "id": "jz7y3diQH-6I",
        "outputId": "d87ebb0d-ba85-443f-f5a4-24c36ec83d6e"
      },
      "outputs": [
        {
          "data": {
            "text/plain": [
              "<tf.Tensor: shape=(3, 10), dtype=int64, numpy=\n",
              "array([[  2,  39, 105,  85,   8,   3,   0,   0,   0,   0],\n",
              "       [  2,  20,  70,   9,  20,  10,  21,  47,  31,   4],\n",
              "       [  2,   5, 372,  59, 523,   4,   3,   0,   0,   0]])>"
            ]
          },
          "execution_count": 21,
          "metadata": {},
          "output_type": "execute_result"
        }
      ],
      "source": [
        "example_tokens = input_text_processor(example_input_batch)\n",
        "# quelques phrases tokenisées\n",
        "example_tokens[:3, :10]"
      ]
    },
    {
      "cell_type": "code",
      "execution_count": null,
      "metadata": {
        "colab": {
          "base_uri": "https://localhost:8080/",
          "height": 36
        },
        "id": "Kt20FiD0IBJM",
        "outputId": "6a7693e3-552f-4b32-c428-3f401ebe5a7e"
      },
      "outputs": [
        {
          "data": {
            "text/plain": [
              "'[START] qui etesvous tous ? [END]             '"
            ]
          },
          "execution_count": 22,
          "metadata": {},
          "output_type": "execute_result"
        }
      ],
      "source": [
        "input_vocab = np.array(input_text_processor.get_vocabulary())\n",
        "tokens = input_vocab[example_tokens[0].numpy()]\n",
        "' '.join(tokens)"
      ]
    },
    {
      "cell_type": "code",
      "execution_count": null,
      "metadata": {
        "colab": {
          "base_uri": "https://localhost:8080/",
          "height": 298
        },
        "id": "76MHMR-fIBPk",
        "outputId": "5dca77b9-64d8-4bff-f1b6-371c9e6f2bc6"
      },
      "outputs": [
        {
          "data": {
            "text/plain": [
              "Text(0.5, 1.0, 'Mask')"
            ]
          },
          "execution_count": 23,
          "metadata": {},
          "output_type": "execute_result"
        },
        {
          "data": {
            "image/png": "[encoded data removed]",
            "text/plain": [
              "<Figure size 640x480 with 2 Axes>"
            ]
          },
          "metadata": {},
          "output_type": "display_data"
        }
      ],
      "source": [
        "plt.subplot(1, 2, 1)\n",
        "plt.pcolormesh(example_tokens)\n",
        "plt.title('Token IDs')\n",
        "\n",
        "plt.subplot(1, 2, 2)\n",
        "plt.pcolormesh(example_tokens != 0)\n",
        "plt.title('Mask')"
      ]
    },
    {
      "cell_type": "code",
      "execution_count": null,
      "metadata": {
        "id": "svEnv8qWIBXW"
      },
      "outputs": [],
      "source": [
        "embedding_dim = 256\n",
        "units = 1000 # nombre de neurones des couches de l'encodeur et décodeur"
      ]
    },
    {
      "cell_type": "code",
      "execution_count": null,
      "metadata": {
        "id": "k91qJdrYIB1l"
      },
      "outputs": [],
      "source": [
        "# Till now, we have used a monodirectional GRU instead of a bidirectional as first tests.\n",
        "# However, in the next version we will use the bidirectional GRU.\n",
        "class Encoder(tf.keras.layers.Layer):\n",
        "    def __init__(self, input_vocab_size, embedding_dim, enc_units):\n",
        "        super(Encoder, self).__init__()\n",
        "        self.enc_units = enc_units\n",
        "        self.input_vocab_size = input_vocab_size\n",
        "\n",
        "        # The embedding layer converts tokens to vectors\n",
        "        self.embedding = tf.keras.layers.Embedding(self.input_vocab_size,\n",
        "                                                   embedding_dim)\n",
        "\n",
        "        # The GRU RNN layer processes those vectors sequentially.\n",
        "        self.gru = tf.keras.layers.GRU(self.enc_units,\n",
        "                                       # Return the sequence and state\n",
        "                                       return_sequences=True,\n",
        "                                       return_state=True,\n",
        "                                       recurrent_initializer='glorot_uniform')\n",
        "\n",
        "    def call(self, tokens, state=None):\n",
        "        shape_checker = ShapeChecker()\n",
        "        shape_checker(tokens, ('batch', 's'))\n",
        "\n",
        "        # 2. The embedding layer looks up the embedding for each token.\n",
        "        vectors = self.embedding(tokens)\n",
        "        shape_checker(vectors, ('batch', 's', 'embed_dim'))\n",
        "\n",
        "        # 3. The GRU processes the embedding sequence.\n",
        "        #    output shape: (batch, s, enc_units)\n",
        "        #    state shape: (batch, enc_units)\n",
        "        output, state = self.gru(vectors, initial_state=state)\n",
        "        shape_checker(output, ('batch', 's', 'enc_units'))\n",
        "        shape_checker(state, ('batch', 'enc_units'))\n",
        "\n",
        "        # 4. Returns the new sequence and its state.\n",
        "        return output, state"
      ]
    },
    {
      "cell_type": "code",
      "execution_count": null,
      "metadata": {
        "colab": {
          "base_uri": "https://localhost:8080/"
        },
        "id": "2CWuL_sTIH7f",
        "outputId": "c1112240-8c40-4da7-fd19-a8c7997d0664"
      },
      "outputs": [
        {
          "name": "stdout",
          "output_type": "stream",
          "text": [
            "Input batch, shape (batch): (64,)\n",
            "Input batch tokens, shape (batch, s): (64, 19)\n",
            "Encoder output, shape (batch, s, units): (64, 19, 1000)\n",
            "Encoder state, shape (batch, units): (64, 1000)\n"
          ]
        }
      ],
      "source": [
        "# Convert the input text to tokens.\n",
        "example_tokens = input_text_processor(example_input_batch)\n",
        "\n",
        "# Encode the input sequence.\n",
        "encoder = Encoder(input_text_processor.vocabulary_size(),\n",
        "                  embedding_dim, units)\n",
        "example_enc_output, example_enc_state = encoder(example_tokens)\n",
        "\n",
        "print(f'Input batch, shape (batch): {example_input_batch.shape}')\n",
        "print(f'Input batch tokens, shape (batch, s): {example_tokens.shape}')\n",
        "print(f'Encoder output, shape (batch, s, units): {example_enc_output.shape}')\n",
        "print(f'Encoder state, shape (batch, units): {example_enc_state.shape}')"
      ]
    },
    {
      "cell_type": "code",
      "execution_count": null,
      "metadata": {
        "id": "sgRPoDf0IIAr"
      },
      "outputs": [],
      "source": [
        "class BahdanauAttention(tf.keras.layers.Layer):\n",
        "    def __init__(self, units):\n",
        "        super().__init__()\n",
        "        # For Eqn. (4), the  Bahdanau attention\n",
        "        self.W1 = tf.keras.layers.Dense(units, use_bias=False)\n",
        "        self.W2 = tf.keras.layers.Dense(units, use_bias=False)\n",
        "\n",
        "        self.attention = tf.keras.layers.AdditiveAttention()\n",
        "\n",
        "    def call(self, query, value, mask):\n",
        "        shape_checker = ShapeChecker()\n",
        "        shape_checker(query, ('batch', 't', 'query_units'))\n",
        "        shape_checker(value, ('batch', 's', 'value_units'))\n",
        "        shape_checker(mask, ('batch', 's'))\n",
        "\n",
        "        # From Eqn. (4), `W1@ht`.\n",
        "        w1_query = self.W1(query)\n",
        "        shape_checker(w1_query, ('batch', 't', 'attn_units'))\n",
        "\n",
        "        # From Eqn. (4), `W2@hs`.\n",
        "        w2_key = self.W2(value)\n",
        "        shape_checker(w2_key, ('batch', 's', 'attn_units'))\n",
        "\n",
        "        query_mask = tf.ones(tf.shape(query)[:-1], dtype=bool)\n",
        "        value_mask = mask\n",
        "\n",
        "        context_vector, attention_weights = self.attention(\n",
        "            inputs = [w1_query, value, w2_key],\n",
        "            mask=[query_mask, value_mask],\n",
        "            return_attention_scores = True,\n",
        "        )\n",
        "        shape_checker(context_vector, ('batch', 't', 'value_units'))\n",
        "        shape_checker(attention_weights, ('batch', 't', 's'))\n",
        "\n",
        "        return context_vector, attention_weights"
      ]
    },
    {
      "cell_type": "code",
      "execution_count": null,
      "metadata": {
        "id": "kvktv7CgIIDJ"
      },
      "outputs": [],
      "source": [
        "attention_layer = BahdanauAttention(units)"
      ]
    },
    {
      "cell_type": "code",
      "execution_count": null,
      "metadata": {
        "colab": {
          "base_uri": "https://localhost:8080/"
        },
        "id": "0GaMTu6-IIGy",
        "outputId": "9c34983c-7d6c-4902-8d7e-36669d946e89"
      },
      "outputs": [
        {
          "data": {
            "text/plain": [
              "TensorShape([64, 19])"
            ]
          },
          "execution_count": 29,
          "metadata": {},
          "output_type": "execute_result"
        }
      ],
      "source": [
        "(example_tokens != 0).shape"
      ]
    },
    {
      "cell_type": "code",
      "execution_count": null,
      "metadata": {
        "colab": {
          "base_uri": "https://localhost:8080/"
        },
        "id": "PWRqXkQ1IIPp",
        "outputId": "a452eb05-6f13-4ece-fc36-2d549b948af5"
      },
      "outputs": [
        {
          "name": "stdout",
          "output_type": "stream",
          "text": [
            "Attention result shape: (batch_size, query_seq_length, units):           (64, 2, 1000)\n",
            "Attention weights shape: (batch_size, query_seq_length, value_seq_length): (64, 2, 19)\n"
          ]
        }
      ],
      "source": [
        "# Later, the decoder will generate this attention query\n",
        "example_attention_query = tf.random.normal(shape=[len(example_tokens), 2, 10])\n",
        "\n",
        "# Attend to the encoded tokens\n",
        "\n",
        "context_vector, attention_weights = attention_layer(\n",
        "    query=example_attention_query,\n",
        "    value=example_enc_output,\n",
        "    mask=(example_tokens != 0))\n",
        "\n",
        "print(f'Attention result shape: (batch_size, query_seq_length, units):           {context_vector.shape}')\n",
        "print(f'Attention weights shape: (batch_size, query_seq_length, value_seq_length): {attention_weights.shape}')"
      ]
    },
    {
      "cell_type": "code",
      "execution_count": null,
      "metadata": {
        "colab": {
          "base_uri": "https://localhost:8080/",
          "height": 298
        },
        "id": "UVwcPJYEIITF",
        "outputId": "fd325d04-47f5-426b-cb2b-5b2b0aced9b9"
      },
      "outputs": [
        {
          "data": {
            "text/plain": [
              "Text(0.5, 1.0, 'Mask')"
            ]
          },
          "execution_count": 31,
          "metadata": {},
          "output_type": "execute_result"
        },
        {
          "data": {
            "image/png": "[encoded data removed]",
            "text/plain": [
              "<Figure size 640x480 with 2 Axes>"
            ]
          },
          "metadata": {},
          "output_type": "display_data"
        }
      ],
      "source": [
        "plt.subplot(1, 2, 1)\n",
        "plt.pcolormesh(attention_weights[:, 0, :])\n",
        "plt.title('Attention weights')\n",
        "\n",
        "plt.subplot(1, 2, 2)\n",
        "plt.pcolormesh(example_tokens != 0)\n",
        "plt.title('Mask')"
      ]
    },
    {
      "cell_type": "code",
      "execution_count": null,
      "metadata": {
        "colab": {
          "base_uri": "https://localhost:8080/"
        },
        "id": "Mkm6ET0wISBG",
        "outputId": "61f0f428-2fb8-414b-ef21-4a9b402760a6"
      },
      "outputs": [
        {
          "data": {
            "text/plain": [
              "TensorShape([64, 2, 19])"
            ]
          },
          "execution_count": 32,
          "metadata": {},
          "output_type": "execute_result"
        }
      ],
      "source": [
        "attention_weights.shape"
      ]
    },
    {
      "cell_type": "code",
      "execution_count": null,
      "metadata": {
        "id": "6HshcWeJISDy"
      },
      "outputs": [],
      "source": [
        "attention_slice = attention_weights[0, 0].numpy()\n",
        "attention_slice = attention_slice[attention_slice != 0]"
      ]
    },
    {
      "cell_type": "code",
      "execution_count": null,
      "metadata": {
        "id": "gbWSszPKISGY"
      },
      "outputs": [],
      "source": [
        "class Decoder(tf.keras.layers.Layer):\n",
        "    def __init__(self, output_vocab_size, embedding_dim, dec_units):\n",
        "        super(Decoder, self).__init__()\n",
        "        self.dec_units = dec_units\n",
        "        self.output_vocab_size = output_vocab_size\n",
        "        self.embedding_dim = embedding_dim\n",
        "\n",
        "        # For Step 1. The embedding layer convets token IDs to vectors\n",
        "        self.embedding = tf.keras.layers.Embedding(self.output_vocab_size,\n",
        "                                                   embedding_dim)\n",
        "\n",
        "        # For Step 2. The RNN keeps track of what's been generated so far.\n",
        "        self.gru = tf.keras.layers.GRU(self.dec_units,\n",
        "                                       return_sequences=True,\n",
        "                                       return_state=True,\n",
        "                                       recurrent_initializer='glorot_uniform')\n",
        "\n",
        "        # For step 3. The RNN output will be the query for the attention layer.\n",
        "        self.attention = BahdanauAttention(self.dec_units)\n",
        "\n",
        "        # For step 4. Eqn. (3): converting `ct` to `at`\n",
        "        self.Wc = tf.keras.layers.Dense(dec_units, activation=tf.math.tanh,\n",
        "                                        use_bias=False)\n",
        "\n",
        "        # For step 5. This fully connected layer produces the logits for each\n",
        "        # output token.\n",
        "        self.fc = tf.keras.layers.Dense(self.output_vocab_size)"
      ]
    },
    {
      "cell_type": "code",
      "execution_count": null,
      "metadata": {
        "id": "ru5MZzPuISJG"
      },
      "outputs": [],
      "source": [
        "class DecoderInput(typing.NamedTuple):\n",
        "    new_tokens: Any\n",
        "    enc_output: Any\n",
        "    mask: Any\n",
        "\n",
        "class DecoderOutput(typing.NamedTuple):\n",
        "    logits: Any\n",
        "    attention_weights: Any"
      ]
    },
    {
      "cell_type": "code",
      "execution_count": null,
      "metadata": {
        "id": "9Pr6bAwsISMV"
      },
      "outputs": [],
      "source": [
        "def call(self,\n",
        "         inputs: DecoderInput,\n",
        "         state=None) -> Tuple[DecoderOutput, tf.Tensor]:\n",
        "    shape_checker = ShapeChecker()\n",
        "    shape_checker(inputs.new_tokens, ('batch', 't'))\n",
        "    shape_checker(inputs.enc_output, ('batch', 's', 'enc_units'))\n",
        "    shape_checker(inputs.mask, ('batch', 's'))\n",
        "\n",
        "    if state is not None:\n",
        "        shape_checker(state, ('batch', 'dec_units'))\n",
        "\n",
        "    # Step 1. Lookup the embeddings\n",
        "    vectors = self.embedding(inputs.new_tokens)\n",
        "    shape_checker(vectors, ('batch', 't', 'embedding_dim'))\n",
        "\n",
        "    # Step 2. Process one step with the RNN\n",
        "    rnn_output, state = self.gru(vectors, initial_state=state)\n",
        "\n",
        "    shape_checker(rnn_output, ('batch', 't', 'dec_units'))\n",
        "    shape_checker(state, ('batch', 'dec_units'))\n",
        "\n",
        "    # Step 3. Use the RNN output as the query for the attention over the\n",
        "    # encoder output.\n",
        "    context_vector, attention_weights = self.attention(\n",
        "        query=rnn_output, value=inputs.enc_output, mask=inputs.mask)\n",
        "    shape_checker(context_vector, ('batch', 't', 'dec_units'))\n",
        "    shape_checker(attention_weights, ('batch', 't', 's'))\n",
        "\n",
        "    # Step 4. Eqn. (3): Join the context_vector and rnn_output\n",
        "    #     [ct; ht] shape: (batch t, value_units + query_units)\n",
        "    context_and_rnn_output = tf.concat([context_vector, rnn_output], axis=-1)\n",
        "\n",
        "    # Step 4. Eqn. (3): `at = tanh(Wc@[ct; ht])`\n",
        "    attention_vector = self.Wc(context_and_rnn_output)\n",
        "    shape_checker(attention_vector, ('batch', 't', 'dec_units'))\n",
        "\n",
        "    # Step 5. Generate logit predictions:\n",
        "    logits = self.fc(attention_vector)\n",
        "    shape_checker(logits, ('batch', 't', 'output_vocab_size'))\n",
        "\n",
        "    return DecoderOutput(logits, attention_weights), state"
      ]
    },
    {
      "cell_type": "code",
      "execution_count": null,
      "metadata": {
        "id": "iK6mVNliIYwg"
      },
      "outputs": [],
      "source": [
        "Decoder.call = call"
      ]
    },
    {
      "cell_type": "code",
      "execution_count": null,
      "metadata": {
        "id": "Jb3DqDSpIY36"
      },
      "outputs": [],
      "source": [
        "decoder = Decoder(output_text_processor.vocabulary_size(),\n",
        "                  embedding_dim, units)"
      ]
    },
    {
      "cell_type": "code",
      "execution_count": null,
      "metadata": {
        "id": "_j9WT0nLIY9Q"
      },
      "outputs": [],
      "source": [
        "# Convert the target sequence, and collect the \"[START]\" tokens\n",
        "example_output_tokens = output_text_processor(example_target_batch)\n",
        "\n",
        "start_index = output_text_processor.get_vocabulary().index('[START]')\n",
        "first_token = tf.constant([[start_index]] * example_output_tokens.shape[0])"
      ]
    },
    {
      "cell_type": "code",
      "execution_count": null,
      "metadata": {
        "colab": {
          "base_uri": "https://localhost:8080/"
        },
        "id": "8TS8n2mNIZAE",
        "outputId": "6b4164c8-62b7-49e4-8549-21e8d612a03c"
      },
      "outputs": [
        {
          "name": "stdout",
          "output_type": "stream",
          "text": [
            "logits shape: (batch_size, t, output_vocab_size) (64, 1, 5000)\n",
            "state shape: (batch_size, dec_units) (64, 1000)\n"
          ]
        }
      ],
      "source": [
        "# Run the decoder\n",
        "dec_result, dec_state = decoder(\n",
        "    inputs = DecoderInput(new_tokens=first_token,\n",
        "                          enc_output=example_enc_output,\n",
        "                          mask=(example_tokens != 0)),\n",
        "    state = example_enc_state\n",
        ")\n",
        "\n",
        "print(f'logits shape: (batch_size, t, output_vocab_size) {dec_result.logits.shape}')\n",
        "print(f'state shape: (batch_size, dec_units) {dec_state.shape}')"
      ]
    },
    {
      "cell_type": "code",
      "execution_count": null,
      "metadata": {
        "id": "M_PcMNIbIdnb"
      },
      "outputs": [],
      "source": [
        "sampled_token = tf.random.categorical(dec_result.logits[:, 0, :], num_samples=1)"
      ]
    },
    {
      "cell_type": "code",
      "execution_count": null,
      "metadata": {
        "colab": {
          "base_uri": "https://localhost:8080/"
        },
        "id": "lvk-N4ADIdp_",
        "outputId": "562f1988-0452-4308-86ab-be6718792ec0"
      },
      "outputs": [
        {
          "data": {
            "text/plain": [
              "array([['suspected'],\n",
              "       ['plan'],\n",
              "       ['dozed'],\n",
              "       ['way'],\n",
              "       ['caused']], dtype='<U16')"
            ]
          },
          "execution_count": 42,
          "metadata": {},
          "output_type": "execute_result"
        }
      ],
      "source": [
        "vocab = np.array(output_text_processor.get_vocabulary())\n",
        "first_word = vocab[sampled_token.numpy()]\n",
        "first_word[:5]"
      ]
    },
    {
      "cell_type": "code",
      "execution_count": null,
      "metadata": {
        "id": "1Y9W7LfcIdsl"
      },
      "outputs": [],
      "source": [
        "dec_result, dec_state = decoder(\n",
        "    DecoderInput(sampled_token,\n",
        "                 example_enc_output,\n",
        "                 mask=(example_tokens != 0)),\n",
        "    state=dec_state)"
      ]
    },
    {
      "cell_type": "code",
      "execution_count": null,
      "metadata": {
        "id": "JCYD8NLIIdvY"
      },
      "outputs": [],
      "source": [
        "class MaskedLoss(tf.keras.losses.Loss):\n",
        "    def __init__(self):\n",
        "        self.name = 'masked_loss'\n",
        "        self.loss = tf.keras.losses.SparseCategoricalCrossentropy(\n",
        "            from_logits=True, reduction='none')\n",
        "\n",
        "    def __call__(self, y_true, y_pred):\n",
        "        shape_checker = ShapeChecker()\n",
        "        shape_checker(y_true, ('batch', 't'))\n",
        "        shape_checker(y_pred, ('batch', 't', 'logits'))\n",
        "\n",
        "        # Calculate the loss for each item in the batch.\n",
        "        loss = self.loss(y_true, y_pred)\n",
        "        shape_checker(loss, ('batch', 't'))\n",
        "\n",
        "        # Mask off the losses on padding.\n",
        "        mask = tf.cast(y_true != 0, tf.float32)\n",
        "        shape_checker(mask, ('batch', 't'))\n",
        "        loss *= mask\n",
        "\n",
        "        # Return the total.\n",
        "        return tf.reduce_sum(loss)"
      ]
    },
    {
      "cell_type": "code",
      "execution_count": null,
      "metadata": {
        "id": "vOpEjv6WIdxr"
      },
      "outputs": [],
      "source": [
        "class TrainTranslator(tf.keras.Model):\n",
        "    def __init__(self, embedding_dim, units,\n",
        "                   input_text_processor,\n",
        "                   output_text_processor, \n",
        "                   use_tf_function=True):\n",
        "        super().__init__()\n",
        "        # Build the encoder and decoder\n",
        "        encoder = Encoder(input_text_processor.vocabulary_size(),\n",
        "                          embedding_dim, units)\n",
        "        decoder = Decoder(output_text_processor.vocabulary_size(),\n",
        "                          embedding_dim, units)\n",
        "\n",
        "        self.encoder = encoder\n",
        "        self.decoder = decoder\n",
        "        self.input_text_processor = input_text_processor\n",
        "        self.output_text_processor = output_text_processor\n",
        "        self.use_tf_function = use_tf_function\n",
        "        self.shape_checker = ShapeChecker()\n",
        "\n",
        "    def train_step(self, inputs):\n",
        "        self.shape_checker = ShapeChecker()\n",
        "        if self.use_tf_function:\n",
        "            return self._tf_train_step(inputs)\n",
        "        else:\n",
        "            return self._train_step(inputs)"
      ]
    },
    {
      "cell_type": "code",
      "execution_count": null,
      "metadata": {
        "id": "sx8DzYd4Id1F"
      },
      "outputs": [],
      "source": [
        "def _preprocess(self, input_text, target_text):\n",
        "    self.shape_checker(input_text, ('batch',))\n",
        "    self.shape_checker(target_text, ('batch',))\n",
        "\n",
        "    # Convert the text to token IDs\n",
        "    input_tokens = self.input_text_processor(input_text)\n",
        "    target_tokens = self.output_text_processor(target_text)\n",
        "    self.shape_checker(input_tokens, ('batch', 's'))\n",
        "    self.shape_checker(target_tokens, ('batch', 't'))\n",
        "\n",
        "    # Convert IDs to masks.\n",
        "    input_mask = input_tokens != 0\n",
        "    self.shape_checker(input_mask, ('batch', 's'))\n",
        "\n",
        "    target_mask = target_tokens != 0\n",
        "    self.shape_checker(target_mask, ('batch', 't'))\n",
        "\n",
        "    return input_tokens, input_mask, target_tokens, target_mask"
      ]
    },
    {
      "cell_type": "code",
      "execution_count": null,
      "metadata": {
        "id": "12vHRtMxIZDe"
      },
      "outputs": [],
      "source": [
        "TrainTranslator._preprocess = _preprocess"
      ]
    },
    {
      "cell_type": "code",
      "execution_count": null,
      "metadata": {
        "id": "1YbqjLtFImSG"
      },
      "outputs": [],
      "source": [
        "def _train_step(self, inputs):\n",
        "    input_text, target_text = inputs  \n",
        "\n",
        "    (input_tokens, input_mask,\n",
        "    target_tokens, target_mask) = self._preprocess(input_text, target_text)\n",
        "\n",
        "    max_target_length = tf.shape(target_tokens)[1]\n",
        "\n",
        "    with tf.GradientTape() as tape:\n",
        "        # Encode the input\n",
        "        enc_output, enc_state = self.encoder(input_tokens)\n",
        "        self.shape_checker(enc_output, ('batch', 's', 'enc_units'))\n",
        "        self.shape_checker(enc_state, ('batch', 'enc_units'))\n",
        "\n",
        "        # Initialize the decoder's state to the encoder's final state.\n",
        "        # This only works if the encoder and decoder have the same number of\n",
        "        # units.\n",
        "        dec_state = enc_state\n",
        "        loss = tf.constant(0.0)\n",
        "\n",
        "        for t in tf.range(max_target_length-1):\n",
        "            # Pass in two tokens from the target sequence:\n",
        "            # 1. The current input to the decoder.\n",
        "            # 2. The target for the decoder's next prediction.\n",
        "            new_tokens = target_tokens[:, t:t+2]\n",
        "            step_loss, dec_state = self._loop_step(new_tokens, input_mask,\n",
        "                                                 enc_output, dec_state)\n",
        "            loss = loss + step_loss\n",
        "\n",
        "        # Average the loss over all non padding tokens.\n",
        "        average_loss = loss / tf.reduce_sum(tf.cast(target_mask, tf.float32))\n",
        "\n",
        "    # Apply an optimization step\n",
        "    variables = self.trainable_variables \n",
        "    gradients = tape.gradient(average_loss, variables)\n",
        "    self.optimizer.apply_gradients(zip(gradients, variables))\n",
        "\n",
        "    # Return a dict mapping metric names to current value\n",
        "    return {'batch_loss': average_loss}"
      ]
    },
    {
      "cell_type": "code",
      "execution_count": null,
      "metadata": {
        "id": "1KDzgG0UImUz"
      },
      "outputs": [],
      "source": [
        "TrainTranslator._train_step = _train_step"
      ]
    },
    {
      "cell_type": "code",
      "execution_count": null,
      "metadata": {
        "id": "N8OoM2KAImYS"
      },
      "outputs": [],
      "source": [
        "def _loop_step(self, new_tokens, input_mask, enc_output, dec_state):\n",
        "    input_token, target_token = new_tokens[:, 0:1], new_tokens[:, 1:2]\n",
        "\n",
        "    # Run the decoder one step.\n",
        "    decoder_input = DecoderInput(new_tokens=input_token,\n",
        "                               enc_output=enc_output,\n",
        "                               mask=input_mask)\n",
        "\n",
        "    dec_result, dec_state = self.decoder(decoder_input, state=dec_state)\n",
        "    self.shape_checker(dec_result.logits, ('batch', 't1', 'logits'))\n",
        "    self.shape_checker(dec_result.attention_weights, ('batch', 't1', 's'))\n",
        "    self.shape_checker(dec_state, ('batch', 'dec_units'))\n",
        "\n",
        "    # `self.loss` returns the total for non-padded tokens\n",
        "    y = target_token\n",
        "    y_pred = dec_result.logits\n",
        "    step_loss = self.loss(y, y_pred)\n",
        "\n",
        "    return step_loss, dec_state"
      ]
    },
    {
      "cell_type": "code",
      "execution_count": null,
      "metadata": {
        "id": "9W-l9eI0Imlk"
      },
      "outputs": [],
      "source": [
        "TrainTranslator._loop_step = _loop_step"
      ]
    },
    {
      "cell_type": "code",
      "execution_count": null,
      "metadata": {
        "id": "lCdnYuT1ItjR"
      },
      "outputs": [],
      "source": [
        "translator = TrainTranslator(\n",
        "    embedding_dim, units,\n",
        "    input_text_processor=input_text_processor,\n",
        "    output_text_processor=output_text_processor,\n",
        "    use_tf_function=False)\n",
        "\n",
        "# Configure the loss and optimizer\n",
        "translator.compile(\n",
        "    optimizer=tf.optimizers.Adam(),\n",
        "    loss=MaskedLoss(),\n",
        ")"
      ]
    },
    {
      "cell_type": "code",
      "execution_count": null,
      "metadata": {
        "colab": {
          "base_uri": "https://localhost:8080/"
        },
        "id": "8fvyimEZItl2",
        "outputId": "4d82f9ae-7ce7-46ec-8266-769dd8d3ed74"
      },
      "outputs": [
        {
          "data": {
            "text/plain": [
              "8.517193191416238"
            ]
          },
          "execution_count": 53,
          "metadata": {},
          "output_type": "execute_result"
        }
      ],
      "source": [
        "np.log(output_text_processor.vocabulary_size())"
      ]
    },
    {
      "cell_type": "code",
      "execution_count": null,
      "metadata": {
        "colab": {
          "base_uri": "https://localhost:8080/"
        },
        "id": "bI-SiuJmItof",
        "outputId": "28ff017c-3339-4f97-ebf4-95b9747877b6"
      },
      "outputs": [
        {
          "name": "stdout",
          "output_type": "stream",
          "text": [
            "{'batch_loss': <tf.Tensor: shape=(), dtype=float32, numpy=7.5706186>}\n",
            "{'batch_loss': <tf.Tensor: shape=(), dtype=float32, numpy=7.53916>}\n",
            "{'batch_loss': <tf.Tensor: shape=(), dtype=float32, numpy=7.4789295>}\n",
            "{'batch_loss': <tf.Tensor: shape=(), dtype=float32, numpy=7.3034635>}\n",
            "{'batch_loss': <tf.Tensor: shape=(), dtype=float32, numpy=6.647581>}\n",
            "{'batch_loss': <tf.Tensor: shape=(), dtype=float32, numpy=5.1521173>}\n",
            "{'batch_loss': <tf.Tensor: shape=(), dtype=float32, numpy=4.648046>}\n",
            "{'batch_loss': <tf.Tensor: shape=(), dtype=float32, numpy=4.4589624>}\n",
            "{'batch_loss': <tf.Tensor: shape=(), dtype=float32, numpy=4.2081137>}\n",
            "{'batch_loss': <tf.Tensor: shape=(), dtype=float32, numpy=4.0415454>}\n",
            "\n",
            "CPU times: user 1min 56s, sys: 2.41 s, total: 1min 58s\n",
            "Wall time: 44.5 s\n"
          ]
        }
      ],
      "source": [
        "%%time\n",
        "for n in range(10):\n",
        "      print(translator.train_step([example_input_batch, example_target_batch]))\n",
        "print()"
      ]
    },
    {
      "cell_type": "code",
      "execution_count": null,
      "metadata": {
        "id": "Z21BnHVaItq7"
      },
      "outputs": [],
      "source": [
        "@tf.function(input_signature=[[tf.TensorSpec(dtype=tf.string, shape=[None]),\n",
        "                               tf.TensorSpec(dtype=tf.string, shape=[None])]])\n",
        "def _tf_train_step(self, inputs):\n",
        "      return self._train_step(inputs)"
      ]
    },
    {
      "cell_type": "code",
      "execution_count": null,
      "metadata": {
        "id": "MXdGwpIQIyNY"
      },
      "outputs": [],
      "source": [
        "TrainTranslator._tf_train_step = _tf_train_step"
      ]
    },
    {
      "cell_type": "code",
      "execution_count": null,
      "metadata": {
        "id": "BWfspKE6IyXG"
      },
      "outputs": [],
      "source": [
        "translator.use_tf_function = True"
      ]
    },
    {
      "cell_type": "code",
      "execution_count": null,
      "metadata": {
        "colab": {
          "base_uri": "https://localhost:8080/"
        },
        "id": "6PdCoV1eIyZ2",
        "outputId": "5468bdaf-cfa1-4394-e853-808dea14e362"
      },
      "outputs": [
        {
          "data": {
            "text/plain": [
              "{'batch_loss': <tf.Tensor: shape=(), dtype=float32, numpy=3.9242303>}"
            ]
          },
          "execution_count": 58,
          "metadata": {},
          "output_type": "execute_result"
        }
      ],
      "source": [
        "translator.train_step([example_input_batch, example_target_batch])"
      ]
    },
    {
      "cell_type": "code",
      "execution_count": null,
      "metadata": {
        "colab": {
          "base_uri": "https://localhost:8080/"
        },
        "id": "eCIE07YkIycs",
        "outputId": "149ae27b-9990-46b6-a922-e92367cd2f32"
      },
      "outputs": [
        {
          "name": "stdout",
          "output_type": "stream",
          "text": [
            "{'batch_loss': <tf.Tensor: shape=(), dtype=float32, numpy=3.8988004>}\n",
            "{'batch_loss': <tf.Tensor: shape=(), dtype=float32, numpy=3.9063084>}\n",
            "{'batch_loss': <tf.Tensor: shape=(), dtype=float32, numpy=3.8385468>}\n",
            "{'batch_loss': <tf.Tensor: shape=(), dtype=float32, numpy=3.7314546>}\n",
            "{'batch_loss': <tf.Tensor: shape=(), dtype=float32, numpy=3.7027087>}\n",
            "{'batch_loss': <tf.Tensor: shape=(), dtype=float32, numpy=3.6707034>}\n",
            "{'batch_loss': <tf.Tensor: shape=(), dtype=float32, numpy=3.617001>}\n",
            "{'batch_loss': <tf.Tensor: shape=(), dtype=float32, numpy=3.5801218>}\n",
            "{'batch_loss': <tf.Tensor: shape=(), dtype=float32, numpy=3.5387888>}\n",
            "{'batch_loss': <tf.Tensor: shape=(), dtype=float32, numpy=3.4983494>}\n",
            "\n",
            "CPU times: user 1min 7s, sys: 2.23 s, total: 1min 9s\n",
            "Wall time: 17.8 s\n"
          ]
        }
      ],
      "source": [
        "%%time\n",
        "for n in range(10):\n",
        "    print(translator.train_step([example_input_batch, example_target_batch]))\n",
        "print()"
      ]
    },
    {
      "cell_type": "code",
      "execution_count": null,
      "metadata": {
        "colab": {
          "base_uri": "https://localhost:8080/",
          "height": 320
        },
        "id": "HTNg6SLlIyex",
        "outputId": "8b391631-e61b-468b-b078-6570de4eec41"
      },
      "outputs": [
        {
          "name": "stdout",
          "output_type": "stream",
          "text": [
            "....................................................................................................\n"
          ]
        },
        {
          "data": {
            "text/plain": [
              "[<matplotlib.lines.Line2D at 0x7fe01dea4d60>]"
            ]
          },
          "execution_count": 60,
          "metadata": {},
          "output_type": "execute_result"
        },
        {
          "data": {
            "image/png": "[encoded data removed]",
            "text/plain": [
              "<Figure size 640x480 with 1 Axes>"
            ]
          },
          "metadata": {},
          "output_type": "display_data"
        }
      ],
      "source": [
        "losses = []\n",
        "for n in range(100):\n",
        "    print('.', end='')\n",
        "    logs = translator.train_step([example_input_batch, example_target_batch])\n",
        "    losses.append(logs['batch_loss'].numpy())\n",
        "\n",
        "print()\n",
        "plt.plot(losses)"
      ]
    },
    {
      "cell_type": "code",
      "execution_count": null,
      "metadata": {
        "id": "ZOob3Y7iIyh2"
      },
      "outputs": [],
      "source": [
        "train_translator = TrainTranslator(\n",
        "    embedding_dim, units,\n",
        "    input_text_processor=input_text_processor,\n",
        "    output_text_processor=output_text_processor)\n",
        "\n",
        "# Configure the loss and optimizer\n",
        "train_translator.compile(\n",
        "    optimizer=tf.optimizers.Adam(),\n",
        "    loss=MaskedLoss(),\n",
        ")"
      ]
    },
    {
      "cell_type": "code",
      "execution_count": null,
      "metadata": {
        "id": "6W-hnB_iI5LK"
      },
      "outputs": [],
      "source": [
        "class BatchLogs(tf.keras.callbacks.Callback):\n",
        "    def __init__(self, key):\n",
        "        self.key = key\n",
        "        self.logs = []\n",
        "\n",
        "    def on_train_batch_end(self, n, logs):\n",
        "        self.logs.append(logs[self.key])\n",
        "\n",
        "batch_loss = BatchLogs('batch_loss')"
      ]
    },
    {
      "cell_type": "code",
      "execution_count": null,
      "metadata": {
        "colab": {
          "base_uri": "https://localhost:8080/"
        },
        "id": "UcHjoTAlI5Un",
        "outputId": "2c4e08c2-11bd-4c8b-e4ce-9a08c7dafb8f"
      },
      "outputs": [
        {
          "name": "stdout",
          "output_type": "stream",
          "text": [
            "Epoch 1/3\n",
            "2612/2612 [==============================] - 4272s 2s/step - batch_loss: 1.7486\n",
            "Epoch 2/3\n",
            "2612/2612 [==============================] - 4253s 2s/step - batch_loss: 0.9014\n",
            "Epoch 3/3\n",
            "2612/2612 [==============================] - 4269s 2s/step - batch_loss: 0.6916\n"
          ]
        },
        {
          "data": {
            "text/plain": [
              "<keras.callbacks.History at 0x7f125f676d40>"
            ]
          },
          "execution_count": 63,
          "metadata": {},
          "output_type": "execute_result"
        }
      ],
      "source": [
        "train_translator.fit(dataset, epochs=3,\n",
        "                     callbacks=[batch_loss])"
      ]
    },
    {
      "cell_type": "code",
      "execution_count": null,
      "metadata": {
        "id": "KWSGNjXGI5Xg",
        "outputId": "03a4f37a-fc80-44b3-dacf-485d60e2833f"
      },
      "outputs": [
        {
          "data": {
            "text/plain": [
              "Text(0, 0.5, 'CE/token')"
            ]
          },
          "execution_count": 64,
          "metadata": {},
          "output_type": "execute_result"
        },
        {
          "data": {
            "image/png": "[encoded data removed]",
            "text/plain": [
              "<Figure size 640x480 with 1 Axes>"
            ]
          },
          "metadata": {},
          "output_type": "display_data"
        }
      ],
      "source": [
        "plt.plot(batch_loss.logs)\n",
        "plt.ylim([0, 3])\n",
        "plt.xlabel('Batch #')\n",
        "plt.ylabel('CE/token')"
      ]
    },
    {
      "cell_type": "code",
      "execution_count": null,
      "metadata": {
        "id": "yjs7AKaGI5bD"
      },
      "outputs": [],
      "source": [
        "class Translator(tf.Module):\n",
        "\n",
        "    def __init__(self, encoder, decoder, input_text_processor,\n",
        "                   output_text_processor):\n",
        "        self.encoder = encoder\n",
        "        self.decoder = decoder\n",
        "        self.input_text_processor = input_text_processor\n",
        "        self.output_text_processor = output_text_processor\n",
        "\n",
        "        self.output_token_string_from_index = (\n",
        "            tf.keras.layers.StringLookup(\n",
        "                vocabulary=output_text_processor.get_vocabulary(),\n",
        "                mask_token='',\n",
        "                invert=True))\n",
        "\n",
        "        # The output should never generate padding, unknown, or start.\n",
        "        index_from_string = tf.keras.layers.StringLookup(\n",
        "            vocabulary=output_text_processor.get_vocabulary(), mask_token='')\n",
        "        token_mask_ids = index_from_string(['', '[UNK]', '[START]']).numpy()\n",
        "\n",
        "        token_mask = np.zeros([index_from_string.vocabulary_size()], dtype=np.bool)\n",
        "        token_mask[np.array(token_mask_ids)] = True\n",
        "        self.token_mask = token_mask\n",
        "\n",
        "        self.start_token = index_from_string(tf.constant('[START]'))\n",
        "        self.end_token = index_from_string(tf.constant('[END]'))"
      ]
    },
    {
      "cell_type": "code",
      "execution_count": null,
      "metadata": {
        "id": "rUA3hSxCItuO",
        "outputId": "99989381-91ca-4fc1-df7e-21d347c0cbe4"
      },
      "outputs": [
        {
          "name": "stderr",
          "output_type": "stream",
          "text": [
            "/tmp/wsuser/ipykernel_416/2407734992.py:21: DeprecationWarning: `np.bool` is a deprecated alias for the builtin `bool`. To silence this warning, use `bool` by itself. Doing this will not modify any behavior and is safe. If you specifically wanted the numpy scalar type, use `np.bool_` here.\n",
            "Deprecated in NumPy 1.20; for more details and guidance: https://numpy.org/devdocs/release/1.20.0-notes.html#deprecations\n",
            "  token_mask = np.zeros([index_from_string.vocabulary_size()], dtype=np.bool)\n"
          ]
        }
      ],
      "source": [
        "translator = Translator(\n",
        "    encoder=train_translator.encoder,\n",
        "    decoder=train_translator.decoder,\n",
        "    input_text_processor=input_text_processor,\n",
        "    output_text_processor=output_text_processor,\n",
        ")"
      ]
    },
    {
      "cell_type": "code",
      "execution_count": null,
      "metadata": {
        "id": "0CVvsih1I_tM"
      },
      "outputs": [],
      "source": [
        "def tokens_to_text(self, result_tokens):\n",
        "    shape_checker = ShapeChecker()\n",
        "    shape_checker(result_tokens, ('batch', 't'))\n",
        "    result_text_tokens = self.output_token_string_from_index(result_tokens)\n",
        "    shape_checker(result_text_tokens, ('batch', 't'))\n",
        "\n",
        "    result_text = tf.strings.reduce_join(result_text_tokens,\n",
        "                                       axis=1, separator=' ')\n",
        "    shape_checker(result_text, ('batch'))\n",
        "\n",
        "    result_text = tf.strings.strip(result_text)\n",
        "    shape_checker(result_text, ('batch',))\n",
        "    return result_text"
      ]
    },
    {
      "cell_type": "code",
      "execution_count": null,
      "metadata": {
        "id": "1nh-e-SXI_vg"
      },
      "outputs": [],
      "source": [
        "Translator.tokens_to_text = tokens_to_text"
      ]
    },
    {
      "cell_type": "code",
      "execution_count": null,
      "metadata": {
        "id": "zO0Z4KbaI_yC",
        "outputId": "6602a710-e209-4821-c0c8-a43209c6607b"
      },
      "outputs": [
        {
          "data": {
            "text/plain": [
              "array([b'choose terrible', b'rate resembles', b'due holidays',\n",
              "       b'row alphabet', b'dropped grades'], dtype=object)"
            ]
          },
          "execution_count": 69,
          "metadata": {},
          "output_type": "execute_result"
        }
      ],
      "source": [
        "example_output_tokens = tf.random.uniform(\n",
        "    shape=[5, 2], minval=0, dtype=tf.int64,\n",
        "    maxval=output_text_processor.vocabulary_size())\n",
        "translator.tokens_to_text(example_output_tokens).numpy()"
      ]
    },
    {
      "cell_type": "code",
      "execution_count": null,
      "metadata": {
        "id": "DJz3zSEuI_0m"
      },
      "outputs": [],
      "source": [
        "def sample(self, logits, temperature):\n",
        "    shape_checker = ShapeChecker()\n",
        "    # 't' is usually 1 here.\n",
        "    shape_checker(logits, ('batch', 't', 'vocab'))\n",
        "    shape_checker(self.token_mask, ('vocab',))\n",
        "\n",
        "    token_mask = self.token_mask[tf.newaxis, tf.newaxis, :]\n",
        "    shape_checker(token_mask, ('batch', 't', 'vocab'), broadcast=True)\n",
        "\n",
        "    # Set the logits for all masked tokens to -inf, so they are never chosen.\n",
        "    logits = tf.where(self.token_mask, -np.inf, logits)\n",
        "\n",
        "    if temperature == 0.0:\n",
        "        new_tokens = tf.argmax(logits, axis=-1)\n",
        "    else: \n",
        "        logits = tf.squeeze(logits, axis=1)\n",
        "        new_tokens = tf.random.categorical(logits/temperature,\n",
        "                                        num_samples=1)\n",
        "\n",
        "    shape_checker(new_tokens, ('batch', 't'))\n",
        "\n",
        "    return new_tokens"
      ]
    },
    {
      "cell_type": "code",
      "execution_count": null,
      "metadata": {
        "id": "2gBCRkaSI_4J"
      },
      "outputs": [],
      "source": [
        "Translator.sample = sample"
      ]
    },
    {
      "cell_type": "code",
      "execution_count": null,
      "metadata": {
        "id": "TVTu3AF0JEc0",
        "outputId": "119bf26b-6714-4b9f-8e0e-0b62ef849e46"
      },
      "outputs": [
        {
          "data": {
            "text/plain": [
              "<tf.Tensor: shape=(5, 1), dtype=int64, numpy=\n",
              "array([[2228],\n",
              "       [3527],\n",
              "       [2962],\n",
              "       [2177],\n",
              "       [4341]])>"
            ]
          },
          "execution_count": 72,
          "metadata": {},
          "output_type": "execute_result"
        }
      ],
      "source": [
        "example_logits = tf.random.normal([5, 1, output_text_processor.vocabulary_size()])\n",
        "example_output_tokens = translator.sample(example_logits, temperature=1.0)\n",
        "example_output_tokens"
      ]
    },
    {
      "cell_type": "code",
      "execution_count": null,
      "metadata": {
        "id": "YVfvmDi_JEfT"
      },
      "outputs": [],
      "source": [
        "def translate_unrolled(self,\n",
        "                       input_text, *,\n",
        "                       max_length=50,\n",
        "                       return_attention=True,\n",
        "                       temperature=1.0):\n",
        "    batch_size = tf.shape(input_text)[0]\n",
        "    input_tokens = self.input_text_processor(input_text)\n",
        "    enc_output, enc_state = self.encoder(input_tokens)\n",
        "\n",
        "    dec_state = enc_state\n",
        "    new_tokens = tf.fill([batch_size, 1], self.start_token)\n",
        "\n",
        "    result_tokens = []\n",
        "    attention = []\n",
        "    done = tf.zeros([batch_size, 1], dtype=tf.bool)\n",
        "\n",
        "    for _ in range(max_length):\n",
        "        dec_input = DecoderInput(new_tokens=new_tokens,\n",
        "                                 enc_output=enc_output,\n",
        "                                 mask=(input_tokens!=0))\n",
        "\n",
        "        dec_result, dec_state = self.decoder(dec_input, state=dec_state)\n",
        "\n",
        "        attention.append(dec_result.attention_weights)\n",
        "\n",
        "        new_tokens = self.sample(dec_result.logits, temperature)\n",
        "\n",
        "        # If a sequence produces an `end_token`, set it `done`\n",
        "        done = done | (new_tokens == self.end_token)\n",
        "        # Once a sequence is done it only produces 0-padding.\n",
        "        new_tokens = tf.where(done, tf.constant(0, dtype=tf.int64), new_tokens)\n",
        "\n",
        "        # Collect the generated tokens\n",
        "        result_tokens.append(new_tokens)\n",
        "\n",
        "        if tf.executing_eagerly() and tf.reduce_all(done):\n",
        "            break\n",
        "\n",
        "    # Convert the list of generates token ids to a list of strings.\n",
        "    result_tokens = tf.concat(result_tokens, axis=-1)\n",
        "    result_text = self.tokens_to_text(result_tokens)\n",
        "\n",
        "    if return_attention:\n",
        "        attention_stack = tf.concat(attention, axis=1)\n",
        "        return {'text': result_text, 'attention': attention_stack}\n",
        "    else:\n",
        "        return {'text': result_text}"
      ]
    },
    {
      "cell_type": "code",
      "execution_count": null,
      "metadata": {
        "id": "Bl_yoRDtJEhi"
      },
      "outputs": [],
      "source": [
        "Translator.translate = translate_unrolled"
      ]
    },
    {
      "cell_type": "code",
      "execution_count": null,
      "metadata": {
        "id": "FQ1yNTIul6pr",
        "outputId": "f7c1f7b5-65b5-4e27-f89f-bbd1ac85193c"
      },
      "outputs": [
        {
          "name": "stdout",
          "output_type": "stream",
          "text": [
            "Nous sommes fortes.\n"
          ]
        }
      ],
      "source": [
        "print(inp[4500])"
      ]
    },
    {
      "cell_type": "code",
      "execution_count": null,
      "metadata": {
        "id": "JD_PzuD1JEkL",
        "outputId": "2af7fce0-4877-4707-9678-4e83d4e525f4"
      },
      "outputs": [
        {
          "name": "stdout",
          "output_type": "stream",
          "text": [
            "itll be place tomorrow .\n",
            "were strong .\n",
            "\n",
            "CPU times: user 274 ms, sys: 12.1 ms, total: 286 ms\n",
            "Wall time: 188 ms\n"
          ]
        }
      ],
      "source": [
        "%%time\n",
        "input_text = tf.constant([\n",
        "    'Ça aura lieu demain.', # \"It's really cold here.\"\n",
        "    'Nous sommes fortes.', # \"This is my life.\"\"\n",
        "])\n",
        "\n",
        "result = translator.translate(\n",
        "    input_text = input_text)\n",
        "\n",
        "print(result['text'][0].numpy().decode())\n",
        "print(result['text'][1].numpy().decode())\n",
        "print()"
      ]
    },
    {
      "cell_type": "code",
      "execution_count": null,
      "metadata": {
        "id": "mPSv4nLeJLWW"
      },
      "outputs": [],
      "source": [
        "@tf.function(input_signature=[tf.TensorSpec(dtype=tf.string, shape=[None])])\n",
        "def tf_translate(self, input_text):\n",
        "      return self.translate(input_text)\n",
        "\n",
        "Translator.tf_translate = tf_translate"
      ]
    },
    {
      "cell_type": "code",
      "execution_count": null,
      "metadata": {
        "id": "c4JCqFikJLZo",
        "outputId": "b97de634-b70e-40bf-b214-4bcf59bd3b8d"
      },
      "outputs": [
        {
          "name": "stdout",
          "output_type": "stream",
          "text": [
            "CPU times: user 18.7 s, sys: 113 ms, total: 18.9 s\n",
            "Wall time: 18.2 s\n"
          ]
        }
      ],
      "source": [
        "%%time\n",
        "result = translator.tf_translate(\n",
        "    input_text = input_text)"
      ]
    },
    {
      "cell_type": "code",
      "execution_count": null,
      "metadata": {
        "id": "Y_ARMNWSJLbu",
        "outputId": "d28ea04d-ab87-4fbb-9c00-0c5588de883b"
      },
      "outputs": [
        {
          "name": "stdout",
          "output_type": "stream",
          "text": [
            "its going to be place tomorrow .\n",
            "were strong .\n",
            "\n",
            "CPU times: user 881 ms, sys: 45.4 ms, total: 926 ms\n",
            "Wall time: 317 ms\n"
          ]
        }
      ],
      "source": [
        "%%time\n",
        "result = translator.tf_translate(\n",
        "    input_text = input_text)\n",
        "\n",
        "print(result['text'][0].numpy().decode())\n",
        "print(result['text'][1].numpy().decode())\n",
        "print()"
      ]
    },
    {
      "cell_type": "code",
      "execution_count": null,
      "metadata": {
        "id": "tJhJaIYAJLhD",
        "outputId": "aaa92ccc-ebb6-4c4a-a0cf-bc7c1c37a134"
      },
      "outputs": [
        {
          "name": "stdout",
          "output_type": "stream",
          "text": [
            "itll be here tomorrow .\n",
            "were strong .\n",
            "\n",
            "CPU times: user 299 ms, sys: 0 ns, total: 299 ms\n",
            "Wall time: 201 ms\n"
          ]
        }
      ],
      "source": [
        "%%time\n",
        "result = translator.translate(\n",
        "    input_text = input_text)\n",
        "\n",
        "print(result['text'][0].numpy().decode())\n",
        "print(result['text'][1].numpy().decode())\n",
        "print()"
      ]
    },
    {
      "cell_type": "code",
      "execution_count": null,
      "metadata": {
        "id": "n05evRexJEnp"
      },
      "outputs": [],
      "source": [
        "@tf.function(input_signature=[tf.TensorSpec(dtype=tf.string, shape=[None])])\n",
        "def tf_translate(self, input_text):\n",
        "    return self.translate(input_text)\n",
        "\n",
        "Translator.tf_translate = tf_translate"
      ]
    },
    {
      "cell_type": "code",
      "execution_count": null,
      "metadata": {
        "id": "t_PXzl6YJTTA",
        "outputId": "f6ed4ebc-6780-4ed0-afe5-e6c4ecd2fbb7"
      },
      "outputs": [
        {
          "name": "stdout",
          "output_type": "stream",
          "text": [
            "CPU times: user 2.01 s, sys: 7.79 ms, total: 2.01 s\n",
            "Wall time: 1.88 s\n"
          ]
        }
      ],
      "source": [
        "%%time\n",
        "result = translator.tf_translate(\n",
        "    input_text = input_text)"
      ]
    },
    {
      "cell_type": "code",
      "execution_count": null,
      "metadata": {
        "id": "xT8bXsnQJVn1",
        "outputId": "d11cfa45-5807-45f4-c42e-e3d95539c260"
      },
      "outputs": [
        {
          "name": "stdout",
          "output_type": "stream",
          "text": [
            "will be convenient tomorrow on .\n",
            "were strong .\n",
            "\n",
            "CPU times: user 167 ms, sys: 12.3 ms, total: 179 ms\n",
            "Wall time: 56.8 ms\n"
          ]
        }
      ],
      "source": [
        "%%time\n",
        "result = translator.tf_translate(\n",
        "    input_text = input_text)\n",
        "\n",
        "print(result['text'][0].numpy().decode())\n",
        "print(result['text'][1].numpy().decode())\n",
        "print()"
      ]
    },
    {
      "cell_type": "code",
      "execution_count": null,
      "metadata": {
        "id": "IDlBgtcjJXZt",
        "outputId": "ee320496-e049-42b7-a3a7-f5772db9e87a"
      },
      "outputs": [
        {
          "name": "stdout",
          "output_type": "stream",
          "text": [
            "[0.99999994 1.         1.         1.         1.         1.0000001\n",
            " 1.        ]\n"
          ]
        }
      ],
      "source": [
        "a = result['attention'][0]\n",
        "\n",
        "print(np.sum(a, axis=-1))"
      ]
    },
    {
      "cell_type": "code",
      "execution_count": null,
      "metadata": {
        "id": "PRNhMCAxJXdM",
        "outputId": "b9273a26-f7c9-4184-d9a2-64f41b83747f"
      },
      "outputs": [
        {
          "data": {
            "image/png": "[encoded data removed]",
            "text/plain": [
              "<Figure size 640x480 with 1 Axes>"
            ]
          },
          "metadata": {},
          "output_type": "display_data"
        }
      ],
      "source": [
        "_ = plt.bar(range(len(a[0, :])), a[0, :])"
      ]
    },
    {
      "cell_type": "code",
      "execution_count": null,
      "metadata": {
        "id": "lsPkRNkyJXn_",
        "outputId": "2f29610b-907f-4e21-81a8-5e14cb1787db"
      },
      "outputs": [
        {
          "data": {
            "text/plain": [
              "<matplotlib.image.AxesImage at 0x7f1240c516f0>"
            ]
          },
          "execution_count": 88,
          "metadata": {},
          "output_type": "execute_result"
        },
        {
          "data": {
            "image/png": "[encoded data removed]",
            "text/plain": [
              "<Figure size 640x480 with 1 Axes>"
            ]
          },
          "metadata": {},
          "output_type": "display_data"
        }
      ],
      "source": [
        "plt.imshow(np.array(a), vmin=0.0)"
      ]
    },
    {
      "cell_type": "code",
      "execution_count": null,
      "metadata": {
        "id": "u528ctdll6pw"
      },
      "outputs": [],
      "source": [
        "def plot_attention(attention, sentence, predicted_sentence):\n",
        "    sentence = tf_lower_and_split_punct(sentence).numpy().decode().split()\n",
        "    predicted_sentence = predicted_sentence.numpy().decode().split() + ['[END]']\n",
        "    fig = plt.figure(figsize=(10, 10))\n",
        "    ax = fig.add_subplot(1, 1, 1)\n",
        "\n",
        "    attention = attention[:len(predicted_sentence), :len(sentence)]\n",
        "\n",
        "    ax.matshow(attention, cmap='viridis', vmin=0.0)\n",
        "\n",
        "    fontdict = {'fontsize': 14}\n",
        "\n",
        "    ax.set_xticklabels([''] + sentence, fontdict=fontdict, rotation=90)\n",
        "    ax.set_yticklabels([''] + predicted_sentence, fontdict=fontdict)\n",
        "\n",
        "    ax.xaxis.set_major_locator(ticker.MultipleLocator(1))\n",
        "    ax.yaxis.set_major_locator(ticker.MultipleLocator(1))\n",
        "\n",
        "    ax.set_xlabel('Input text')\n",
        "    ax.set_ylabel('Output text')\n",
        "    plt.suptitle('Attention weights')"
      ]
    },
    {
      "cell_type": "code",
      "execution_count": null,
      "metadata": {
        "id": "DYIIpTRTJXtF",
        "outputId": "3b033e4a-d0e2-49c3-8640-ecc3bfbc18bc"
      },
      "outputs": [
        {
          "name": "stderr",
          "output_type": "stream",
          "text": [
            "/tmp/wsuser/ipykernel_416/3262901620.py:13: UserWarning: FixedFormatter should only be used together with FixedLocator\n",
            "  ax.set_xticklabels([''] + sentence, fontdict=fontdict, rotation=90)\n",
            "/tmp/wsuser/ipykernel_416/3262901620.py:14: UserWarning: FixedFormatter should only be used together with FixedLocator\n",
            "  ax.set_yticklabels([''] + predicted_sentence, fontdict=fontdict)\n"
          ]
        },
        {
          "data": {
            "image/png": "[encoded data removed]",
            "text/plain": [
              "<Figure size 1000x1000 with 1 Axes>"
            ]
          },
          "metadata": {},
          "output_type": "display_data"
        }
      ],
      "source": [
        "i=0\n",
        "plot_attention(result['attention'][i], input_text[i], result['text'][i])"
      ]
    },
    {
      "cell_type": "code",
      "execution_count": null,
      "metadata": {
        "id": "oHpXhKMnJXvQ",
        "outputId": "db0be390-06da-4fe0-f0bf-c3d2eb5b235a"
      },
      "outputs": [
        {
          "name": "stdout",
          "output_type": "stream",
          "text": [
            "please sing .\n",
            "will you be able to walk ?\n",
            "speak to me .\n",
            "\n",
            "CPU times: user 192 ms, sys: 12.2 ms, total: 204 ms\n",
            "Wall time: 66 ms\n"
          ]
        }
      ],
      "source": [
        "%%time\n",
        "three_input_text = tf.constant([\n",
        "    # This is my life.\n",
        "    \"chante s'il te plait.\",\n",
        "    # Are they still home?\n",
        "    'devrait-on marcher?',\n",
        "    # Try to find out.'\n",
        "    'soit content.',\n",
        "])\n",
        "\n",
        "result = translator.tf_translate(three_input_text)\n",
        "\n",
        "for tr in result['text']:\n",
        "    print(tr.numpy().decode())\n",
        "\n",
        "print()"
      ]
    },
    {
      "cell_type": "code",
      "execution_count": null,
      "metadata": {
        "id": "imk9VI2HJXzB",
        "outputId": "48815dd8-2755-4432-aff8-ace7d5e22ff3"
      },
      "outputs": [
        {
          "data": {
            "text/plain": [
              "<tf.Tensor: shape=(3,), dtype=string, numpy=\n",
              "array([b'please sing .', b'will you be able to walk ?', b'speak to me .'],\n",
              "      dtype=object)>"
            ]
          },
          "execution_count": 92,
          "metadata": {},
          "output_type": "execute_result"
        }
      ],
      "source": [
        "result['text']"
      ]
    },
    {
      "cell_type": "code",
      "execution_count": null,
      "metadata": {
        "id": "JSKr6uQoJe66",
        "outputId": "1dc2caa9-d4b4-4902-b94e-1b4f574edebf"
      },
      "outputs": [
        {
          "name": "stderr",
          "output_type": "stream",
          "text": [
            "/tmp/wsuser/ipykernel_416/3262901620.py:13: UserWarning: FixedFormatter should only be used together with FixedLocator\n",
            "  ax.set_xticklabels([''] + sentence, fontdict=fontdict, rotation=90)\n",
            "/tmp/wsuser/ipykernel_416/3262901620.py:14: UserWarning: FixedFormatter should only be used together with FixedLocator\n",
            "  ax.set_yticklabels([''] + predicted_sentence, fontdict=fontdict)\n"
          ]
        },
        {
          "data": {
            "image/png": "[encoded data removed]",
            "text/plain": [
              "<Figure size 1000x1000 with 1 Axes>"
            ]
          },
          "metadata": {},
          "output_type": "display_data"
        }
      ],
      "source": [
        "i = 0\n",
        "plot_attention(result['attention'][i], three_input_text[i], result['text'][i])"
      ]
    },
    {
      "cell_type": "code",
      "execution_count": null,
      "metadata": {
        "id": "ckyjNqWJJfmg",
        "outputId": "4f6c7d4a-0c60-42ba-ab92-d06d565a7de3"
      },
      "outputs": [
        {
          "name": "stderr",
          "output_type": "stream",
          "text": [
            "/tmp/wsuser/ipykernel_416/3262901620.py:13: UserWarning: FixedFormatter should only be used together with FixedLocator\n",
            "  ax.set_xticklabels([''] + sentence, fontdict=fontdict, rotation=90)\n",
            "/tmp/wsuser/ipykernel_416/3262901620.py:14: UserWarning: FixedFormatter should only be used together with FixedLocator\n",
            "  ax.set_yticklabels([''] + predicted_sentence, fontdict=fontdict)\n"
          ]
        },
        {
          "data": {
            "image/png": "[encoded data removed]",
            "text/plain": [
              "<Figure size 1000x1000 with 1 Axes>"
            ]
          },
          "metadata": {},
          "output_type": "display_data"
        }
      ],
      "source": [
        "i = 1\n",
        "plot_attention(result['attention'][i], three_input_text[i], result['text'][i])"
      ]
    },
    {
      "cell_type": "code",
      "execution_count": null,
      "metadata": {
        "id": "Tri8JtgsJhaF",
        "outputId": "e0d65557-0839-4338-f28d-58b4c3cd2172"
      },
      "outputs": [
        {
          "name": "stderr",
          "output_type": "stream",
          "text": [
            "/tmp/wsuser/ipykernel_416/3262901620.py:13: UserWarning: FixedFormatter should only be used together with FixedLocator\n",
            "  ax.set_xticklabels([''] + sentence, fontdict=fontdict, rotation=90)\n",
            "/tmp/wsuser/ipykernel_416/3262901620.py:14: UserWarning: FixedFormatter should only be used together with FixedLocator\n",
            "  ax.set_yticklabels([''] + predicted_sentence, fontdict=fontdict)\n"
          ]
        },
        {
          "data": {
            "image/png": "[encoded data removed]",
            "text/plain": [
              "<Figure size 1000x1000 with 1 Axes>"
            ]
          },
          "metadata": {},
          "output_type": "display_data"
        }
      ],
      "source": [
        "i = 2\n",
        "plot_attention(result['attention'][i], three_input_text[i], result['text'][i])"
      ]
    },
    {
      "cell_type": "code",
      "execution_count": null,
      "metadata": {
        "id": "BiTnINVSJiSa",
        "outputId": "64591e13-47be-4ee3-d05f-dd84aee9273f"
      },
      "outputs": [
        {
          "name": "stdout",
          "output_type": "stream",
          "text": [
            "Expected output:\n",
            " It may be impossible to get a completely error-free corpus due to the\n",
            "nature of this kind of collaborative effort. However, if we encourage\n",
            "members to contribute sentences in their own languages rather than\n",
            "experiment in languages they are learning, we might be able to\n",
            "minimize errors.\n"
          ]
        }
      ],
      "source": [
        "long_input_text = tf.constant([inp[-1]])\n",
        "\n",
        "import textwrap\n",
        "print('Expected output:\\n', '\\n'.join(textwrap.wrap(targ[-1])))"
      ]
    },
    {
      "cell_type": "code",
      "execution_count": null,
      "metadata": {
        "id": "KM1mIP0uJkNr",
        "outputId": "f7e98946-368c-4fa7-91d0-325ba6462a64"
      },
      "outputs": [
        {
          "name": "stderr",
          "output_type": "stream",
          "text": [
            "/tmp/wsuser/ipykernel_416/3262901620.py:13: UserWarning: FixedFormatter should only be used together with FixedLocator\n",
            "  ax.set_xticklabels([''] + sentence, fontdict=fontdict, rotation=90)\n",
            "/tmp/wsuser/ipykernel_416/3262901620.py:14: UserWarning: FixedFormatter should only be used together with FixedLocator\n",
            "  ax.set_yticklabels([''] + predicted_sentence, fontdict=fontdict)\n"
          ]
        },
        {
          "data": {
            "image/png": "[encoded data removed]",
            "text/plain": [
              "<Figure size 1000x1000 with 1 Axes>"
            ]
          },
          "metadata": {},
          "output_type": "display_data"
        }
      ],
      "source": [
        "result = translator.tf_translate(long_input_text)\n",
        "\n",
        "i = 0\n",
        "plot_attention(result['attention'][i], long_input_text[i], result['text'][i])\n",
        "_ = plt.suptitle('This never works')"
      ]
    },
    {
      "cell_type": "code",
      "execution_count": null,
      "metadata": {
        "id": "fuJGqjujJmPH",
        "outputId": "7be54fa0-2933-4e06-e692-a1c8e59d69e1"
      },
      "outputs": [
        {
          "name": "stderr",
          "output_type": "stream",
          "text": [
            "WARNING:absl:Found untraced functions such as encoder_2_layer_call_fn, encoder_2_layer_call_and_return_conditional_losses, decoder_2_layer_call_fn, decoder_2_layer_call_and_return_conditional_losses, embedding_4_layer_call_fn while saving (showing 5 of 24). These functions will not be directly callable after loading.\n"
          ]
        },
        {
          "name": "stdout",
          "output_type": "stream",
          "text": [
            "INFO:tensorflow:Assets written to: translator/assets\n"
          ]
        },
        {
          "name": "stderr",
          "output_type": "stream",
          "text": [
            "INFO:tensorflow:Assets written to: translator/assets\n"
          ]
        }
      ],
      "source": [
        "# sauvegarde du model\n",
        "\"\"\"\n",
        "tf.saved_model.save(translator, 'translator',\n",
        "                    signatures={'serving_default': translator.tf_translate})\n",
        "\"\"\"\n"
      ]
    },
    {
      "cell_type": "markdown",
      "metadata": {
        "id": "FDZCcgDPl6py"
      },
      "source": [
        "## Nous importons le model déja entrainé"
      ]
    },
    {
      "cell_type": "code",
      "execution_count": null,
      "metadata": {
        "id": "joW26D35l6pz"
      },
      "outputs": [],
      "source": [
        "\n",
        "# @hidden_cell\n",
        "# The following code contains the credentials for a file in your IBM Cloud Object Storage.\n",
        "# You might want to remove those credentials before you share your notebook.\n",
        "metadata_5 = {\n",
        "    'IAM_SERVICE_ID': 'iam-ServiceId-1-450d-9aef-59f60ec1aab9',\n",
        "    'IBM_API_KEY_ID': '_K9kKnfQ26uY7SJkmoIEEOCyJYOB',\n",
        "    'ENDPOINT': 'https://s3.private.eu.cloud-object-storage.appdomain.cloud',\n",
        "    'IBM_AUTH_ENDPOINT': 'https://iam.cloud.ibm.com/oidc/token',\n",
        "    'BUCKET': 'nlptranslationseq2seqwithattentio-donotdelete-pr-medpzvaa1j3gyb',\n",
        "    'FILE': 'translator_Tarek_corpus_160K_folder.zip'\n",
        "}\n"
      ]
    },
    {
      "cell_type": "code",
      "execution_count": null,
      "metadata": {
        "id": "3TCjk4YHl6p0"
      },
      "outputs": [],
      "source": [
        "from ibm_botocore.client import Config\n",
        "import ibm_boto3\n",
        "def download_file_cos(credentials,local_file_name,key):  \n",
        "    cos = ibm_boto3.client(service_name='s3',\n",
        "    ibm_api_key_id=credentials['IBM_API_KEY_ID'],\n",
        "    ibm_service_instance_id=credentials['IAM_SERVICE_ID'],\n",
        "    ibm_auth_endpoint=credentials['IBM_AUTH_ENDPOINT'],\n",
        "    config=Config(signature_version='oauth'),\n",
        "    endpoint_url=credentials['ENDPOINT'])\n",
        "    try:\n",
        "        res=cos.download_file(Bucket=credentials['BUCKET'],Key=key,Filename=local_file_name)\n",
        "    except Exception as e:\n",
        "        print(Exception, e)\n",
        "    else:\n",
        "        print('File Downloaded')"
      ]
    },
    {
      "cell_type": "code",
      "execution_count": null,
      "metadata": {
        "id": "eg8w0txal6p0",
        "outputId": "2c5a2fe7-a274-431d-d2cd-49f1cc5d7a43"
      },
      "outputs": [
        {
          "name": "stdout",
          "output_type": "stream",
          "text": [
            "File Downloaded\n"
          ]
        }
      ],
      "source": [
        "download_file_cos(metadata_5,'translator_Tarek_corpus_160K_folder.zip','translator_Tarek_corpus_160K_folder.zip')"
      ]
    },
    {
      "cell_type": "code",
      "execution_count": null,
      "metadata": {
        "id": "P2PklRWCl6p0"
      },
      "outputs": [],
      "source": [
        "from zipfile import ZipFile \n",
        "with ZipFile ('translator_Tarek_corpus_160K_folder.zip', 'r') as zipObj : \n",
        "    #Extraire tt les fichiers dans le directory : \n",
        "    zipObj.extractall()"
      ]
    },
    {
      "cell_type": "code",
      "execution_count": null,
      "metadata": {
        "id": "yzZQiLbdl6p0",
        "outputId": "0810fde9-9013-4997-f1d7-d6c8b1c03894"
      },
      "outputs": [
        {
          "data": {
            "text/plain": [
              "['variables',\n",
              " 'assets',\n",
              " 'saved_model.pb',\n",
              " '__MACOSX',\n",
              " 'translator_Tarek_corpus_160K.zip',\n",
              " '.virtual_documents',\n",
              " 'translator_Tarek_corpus_160K_folder.zip',\n",
              " 'translator_Tarek_corpus_160K_folder']"
            ]
          },
          "execution_count": 65,
          "metadata": {},
          "output_type": "execute_result"
        }
      ],
      "source": [
        "import os\n",
        "os.listdir()"
      ]
    },
    {
      "cell_type": "code",
      "execution_count": null,
      "metadata": {
        "id": "cb4gRwAll6p1"
      },
      "outputs": [],
      "source": [
        "os.chdir(\"translator_Tarek_corpus_160K_folder\")"
      ]
    },
    {
      "cell_type": "code",
      "execution_count": null,
      "metadata": {
        "id": "pVh-2wb1Jm8i"
      },
      "outputs": [],
      "source": [
        "reloaded = tf.saved_model.load('translator')\n",
        "three_input_text = tf.constant([\n",
        "    # This is my life.\n",
        "    \"chante s'il te plait.\",\n",
        "    # Are they still home?\n",
        "    'devrait-on marcher?',\n",
        "    # Try to find out.'\n",
        "    'soit content.',\n",
        "])\n",
        "\n",
        "result = reloaded.tf_translate(three_input_text)"
      ]
    },
    {
      "cell_type": "code",
      "execution_count": null,
      "metadata": {
        "id": "8Rl9PcXTJoS6",
        "outputId": "1d4b72a7-2876-43c5-e406-c9456da59f17"
      },
      "outputs": [
        {
          "name": "stdout",
          "output_type": "stream",
          "text": [
            "please sing .\n",
            "do you use walking ?\n",
            "is nothing glad .\n",
            "\n",
            "CPU times: user 147 ms, sys: 17.2 ms, total: 164 ms\n",
            "Wall time: 53.9 ms\n"
          ]
        }
      ],
      "source": [
        "%%time\n",
        "result = reloaded.tf_translate(three_input_text)\n",
        "\n",
        "for tr in result['text']:\n",
        "  print(tr.numpy().decode())\n",
        "\n",
        "print()"
      ]
    },
    {
      "cell_type": "code",
      "execution_count": null,
      "metadata": {
        "id": "xOljwVaEl6p1"
      },
      "outputs": [],
      "source": []
    },
    {
      "cell_type": "code",
      "execution_count": null,
      "metadata": {
        "id": "uBEQIrZEl6p2"
      },
      "outputs": [],
      "source": []
    },
    {
      "cell_type": "code",
      "execution_count": null,
      "metadata": {
        "id": "Ul9de0RGl6p2"
      },
      "outputs": [],
      "source": []
    }
  ],
  "metadata": {
    "colab": {
      "provenance": []
    },
    "kernelspec": {
      "display_name": "Python 3.10",
      "language": "python",
      "name": "python3"
    },
    "language_info": {
      "codemirror_mode": {
        "name": "ipython",
        "version": 3
      },
      "file_extension": ".py",
      "mimetype": "text/x-python",
      "name": "python",
      "nbconvert_exporter": "python",
      "pygments_lexer": "ipython3",
      "version": "3.10.6"
    }
  },
  "nbformat": 4,
  "nbformat_minor": 0
}